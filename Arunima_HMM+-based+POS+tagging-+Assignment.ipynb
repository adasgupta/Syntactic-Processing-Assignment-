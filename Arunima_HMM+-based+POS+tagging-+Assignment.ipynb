{
 "cells": [
  {
   "cell_type": "markdown",
   "metadata": {},
   "source": [
    "## POS tagging using modified Viterbi"
   ]
  },
  {
   "cell_type": "markdown",
   "metadata": {},
   "source": [
    "### Data Preparation"
   ]
  },
  {
   "cell_type": "code",
   "execution_count": 612,
   "metadata": {},
   "outputs": [],
   "source": [
    "#Importing libraries\n",
    "import nltk\n",
    "import re, pprint\n",
    "import numpy as np\n",
    "import pandas as pd\n",
    "import requests\n",
    "import matplotlib.pyplot as plt\n",
    "import seaborn as sns\n",
    "import pprint, time\n",
    "import random\n",
    "from sklearn.model_selection import train_test_split\n",
    "from nltk import pos_tag\n",
    "from nltk.tokenize import word_tokenize"
   ]
  },
  {
   "cell_type": "code",
   "execution_count": 613,
   "metadata": {},
   "outputs": [],
   "source": [
    "# nltk.download()\n",
    "# reading the Treebank tagged sentences\n",
    "nltk_data = list(nltk.corpus.treebank.tagged_sents(tagset='universal'))"
   ]
  },
  {
   "cell_type": "code",
   "execution_count": 614,
   "metadata": {
    "scrolled": true
   },
   "outputs": [
    {
     "name": "stdout",
     "output_type": "stream",
     "text": [
      "[[('Pierre', 'NOUN'), ('Vinken', 'NOUN'), (',', '.'), ('61', 'NUM'), ('years', 'NOUN'), ('old', 'ADJ'), (',', '.'), ('will', 'VERB'), ('join', 'VERB'), ('the', 'DET'), ('board', 'NOUN'), ('as', 'ADP'), ('a', 'DET'), ('nonexecutive', 'ADJ'), ('director', 'NOUN'), ('Nov.', 'NOUN'), ('29', 'NUM'), ('.', '.')], [('Mr.', 'NOUN'), ('Vinken', 'NOUN'), ('is', 'VERB'), ('chairman', 'NOUN'), ('of', 'ADP'), ('Elsevier', 'NOUN'), ('N.V.', 'NOUN'), (',', '.'), ('the', 'DET'), ('Dutch', 'NOUN'), ('publishing', 'VERB'), ('group', 'NOUN'), ('.', '.')], [('Rudolph', 'NOUN'), ('Agnew', 'NOUN'), (',', '.'), ('55', 'NUM'), ('years', 'NOUN'), ('old', 'ADJ'), ('and', 'CONJ'), ('former', 'ADJ'), ('chairman', 'NOUN'), ('of', 'ADP'), ('Consolidated', 'NOUN'), ('Gold', 'NOUN'), ('Fields', 'NOUN'), ('PLC', 'NOUN'), (',', '.'), ('was', 'VERB'), ('named', 'VERB'), ('*-1', 'X'), ('a', 'DET'), ('nonexecutive', 'ADJ'), ('director', 'NOUN'), ('of', 'ADP'), ('this', 'DET'), ('British', 'ADJ'), ('industrial', 'ADJ'), ('conglomerate', 'NOUN'), ('.', '.')], [('A', 'DET'), ('form', 'NOUN'), ('of', 'ADP'), ('asbestos', 'NOUN'), ('once', 'ADV'), ('used', 'VERB'), ('*', 'X'), ('*', 'X'), ('to', 'PRT'), ('make', 'VERB'), ('Kent', 'NOUN'), ('cigarette', 'NOUN'), ('filters', 'NOUN'), ('has', 'VERB'), ('caused', 'VERB'), ('a', 'DET'), ('high', 'ADJ'), ('percentage', 'NOUN'), ('of', 'ADP'), ('cancer', 'NOUN'), ('deaths', 'NOUN'), ('among', 'ADP'), ('a', 'DET'), ('group', 'NOUN'), ('of', 'ADP'), ('workers', 'NOUN'), ('exposed', 'VERB'), ('*', 'X'), ('to', 'PRT'), ('it', 'PRON'), ('more', 'ADV'), ('than', 'ADP'), ('30', 'NUM'), ('years', 'NOUN'), ('ago', 'ADP'), (',', '.'), ('researchers', 'NOUN'), ('reported', 'VERB'), ('0', 'X'), ('*T*-1', 'X'), ('.', '.')], [('The', 'DET'), ('asbestos', 'NOUN'), ('fiber', 'NOUN'), (',', '.'), ('crocidolite', 'NOUN'), (',', '.'), ('is', 'VERB'), ('unusually', 'ADV'), ('resilient', 'ADJ'), ('once', 'ADP'), ('it', 'PRON'), ('enters', 'VERB'), ('the', 'DET'), ('lungs', 'NOUN'), (',', '.'), ('with', 'ADP'), ('even', 'ADV'), ('brief', 'ADJ'), ('exposures', 'NOUN'), ('to', 'PRT'), ('it', 'PRON'), ('causing', 'VERB'), ('symptoms', 'NOUN'), ('that', 'DET'), ('*T*-1', 'X'), ('show', 'VERB'), ('up', 'PRT'), ('decades', 'NOUN'), ('later', 'ADJ'), (',', '.'), ('researchers', 'NOUN'), ('said', 'VERB'), ('0', 'X'), ('*T*-2', 'X'), ('.', '.')], [('Lorillard', 'NOUN'), ('Inc.', 'NOUN'), (',', '.'), ('the', 'DET'), ('unit', 'NOUN'), ('of', 'ADP'), ('New', 'ADJ'), ('York-based', 'ADJ'), ('Loews', 'NOUN'), ('Corp.', 'NOUN'), ('that', 'DET'), ('*T*-2', 'X'), ('makes', 'VERB'), ('Kent', 'NOUN'), ('cigarettes', 'NOUN'), (',', '.'), ('stopped', 'VERB'), ('using', 'VERB'), ('crocidolite', 'NOUN'), ('in', 'ADP'), ('its', 'PRON'), ('Micronite', 'NOUN'), ('cigarette', 'NOUN'), ('filters', 'NOUN'), ('in', 'ADP'), ('1956', 'NUM'), ('.', '.')], [('Although', 'ADP'), ('preliminary', 'ADJ'), ('findings', 'NOUN'), ('were', 'VERB'), ('reported', 'VERB'), ('*-2', 'X'), ('more', 'ADV'), ('than', 'ADP'), ('a', 'DET'), ('year', 'NOUN'), ('ago', 'ADP'), (',', '.'), ('the', 'DET'), ('latest', 'ADJ'), ('results', 'NOUN'), ('appear', 'VERB'), ('in', 'ADP'), ('today', 'NOUN'), (\"'s\", 'PRT'), ('New', 'NOUN'), ('England', 'NOUN'), ('Journal', 'NOUN'), ('of', 'ADP'), ('Medicine', 'NOUN'), (',', '.'), ('a', 'DET'), ('forum', 'NOUN'), ('likely', 'ADJ'), ('*', 'X'), ('to', 'PRT'), ('bring', 'VERB'), ('new', 'ADJ'), ('attention', 'NOUN'), ('to', 'PRT'), ('the', 'DET'), ('problem', 'NOUN'), ('.', '.')], [('A', 'DET'), ('Lorillard', 'NOUN'), ('spokewoman', 'NOUN'), ('said', 'VERB'), (',', '.'), ('``', '.'), ('This', 'DET'), ('is', 'VERB'), ('an', 'DET'), ('old', 'ADJ'), ('story', 'NOUN'), ('.', '.')], [('We', 'PRON'), (\"'re\", 'VERB'), ('talking', 'VERB'), ('about', 'ADP'), ('years', 'NOUN'), ('ago', 'ADP'), ('before', 'ADP'), ('anyone', 'NOUN'), ('heard', 'VERB'), ('of', 'ADP'), ('asbestos', 'NOUN'), ('having', 'VERB'), ('any', 'DET'), ('questionable', 'ADJ'), ('properties', 'NOUN'), ('.', '.')], [('There', 'DET'), ('is', 'VERB'), ('no', 'DET'), ('asbestos', 'NOUN'), ('in', 'ADP'), ('our', 'PRON'), ('products', 'NOUN'), ('now', 'ADV'), ('.', '.'), (\"''\", '.')]]\n",
      "3914\n"
     ]
    }
   ],
   "source": [
    "# first few tagged sentences\n",
    "print(nltk_data[:10])\n",
    "print(len(nltk_data))"
   ]
  },
  {
   "cell_type": "code",
   "execution_count": null,
   "metadata": {},
   "outputs": [],
   "source": []
  },
  {
   "cell_type": "markdown",
   "metadata": {},
   "source": [
    "### Build the vanilla Viterbi based POS tagger"
   ]
  },
  {
   "cell_type": "markdown",
   "metadata": {},
   "source": [
    "#### Splitting the nltk dataset into training and validation"
   ]
  },
  {
   "cell_type": "code",
   "execution_count": 615,
   "metadata": {},
   "outputs": [
    {
     "name": "stdout",
     "output_type": "stream",
     "text": [
      "3718\n",
      "196\n"
     ]
    }
   ],
   "source": [
    "# Splitting into train and validation\n",
    "random.seed(222)\n",
    "train_set, val_set = train_test_split(nltk_data,test_size=0.05, random_state=1111)\n",
    "\n",
    "print(len(train_set))\n",
    "print(len(val_set))\n"
   ]
  },
  {
   "cell_type": "code",
   "execution_count": 616,
   "metadata": {},
   "outputs": [
    {
     "name": "stdout",
     "output_type": "stream",
     "text": [
      "[[('The', 'DET'), ('city', 'NOUN'), (\"'s\", 'PRT'), ('Campaign', 'NOUN'), ('Finance', 'NOUN'), ('Board', 'NOUN'), ('has', 'VERB'), ('refused', 'VERB'), ('*-1', 'X'), ('to', 'PRT'), ('pay', 'VERB'), ('Mr.', 'NOUN'), ('Dinkins', 'NOUN'), ('$', '.'), ('95,142', 'NUM'), ('*U*', 'X'), ('in', 'ADP'), ('matching', 'ADJ'), ('funds', 'NOUN'), ('because', 'ADP'), ('his', 'PRON'), ('campaign', 'NOUN'), ('records', 'NOUN'), ('are', 'VERB'), ('incomplete', 'ADJ'), ('.', '.')], [('Its', 'PRON'), ('net', 'ADJ'), ('income', 'NOUN'), ('for', 'ADP'), ('the', 'DET'), ('September', 'NOUN'), ('quarter', 'NOUN'), ('rose', 'VERB'), ('about', 'ADP'), ('41', 'NUM'), ('%', 'NOUN'), ('from', 'ADP'), ('a', 'DET'), ('year', 'NOUN'), ('ago', 'ADP'), ('.', '.')], [('Analysts', 'NOUN'), ('said', 'VERB'), ('0', 'X'), ('the', 'DET'), ('fall', 'NOUN'), ('in', 'ADP'), ('pretax', 'NOUN'), ('profit', 'NOUN'), ('was', 'VERB'), ('due', 'ADJ'), ('to', 'PRT'), ('the', 'DET'), ('group', 'NOUN'), (\"'s\", 'PRT'), ('recent', 'ADJ'), ('restructuring', 'NOUN'), ('and', 'CONJ'), ('sale', 'NOUN'), ('of', 'ADP'), ('peripheral', 'ADJ'), ('units', 'NOUN'), (',', '.'), ('and', 'CONJ'), ('that', 'ADP'), ('its', 'PRON'), ('remaining', 'VERB'), ('businesses', 'NOUN'), ('are', 'VERB'), ('performing', 'VERB'), ('well', 'ADV'), ('.', '.')], [('No', 'DET'), ('one', 'PRON'), ('speaks', 'VERB'), (',', '.'), ('and', 'CONJ'), ('the', 'DET'), ('snaking', 'VERB'), ('of', 'ADP'), ('the', 'DET'), ('ropes', 'NOUN'), ('seems', 'VERB'), ('*-1', 'X'), ('to', 'PRT'), ('make', 'VERB'), ('as', 'ADP'), ('much', 'ADJ'), ('sound', 'NOUN'), ('as', 'ADP'), ('the', 'DET'), ('bells', 'NOUN'), ('themselves', 'PRON'), ('*?*', 'X'), (',', '.'), ('*-2', 'X'), ('muffled', 'VERB'), ('*-3', 'X'), ('by', 'ADP'), ('the', 'DET'), ('ceiling', 'NOUN'), ('.', '.')], [('Those', 'DET'), ('efforts', 'NOUN'), ('are', 'VERB'), ('being', 'VERB'), ('stepped', 'VERB'), ('up', 'PRT'), ('*-1', 'X'), ('.', '.')]]\n"
     ]
    }
   ],
   "source": [
    "# Explore the train set\n",
    "print(train_set[:5])"
   ]
  },
  {
   "cell_type": "code",
   "execution_count": 617,
   "metadata": {
    "scrolled": true
   },
   "outputs": [
    {
     "name": "stdout",
     "output_type": "stream",
     "text": [
      "[[('``', '.'), ('That', 'DET'), ('attracts', 'VERB'), ('attention', 'NOUN'), ('...', '.')], [('A', 'DET'), ('faster', 'ADJ'), ('version', 'NOUN'), (',', '.'), ('the', 'DET'), ('SuperDot', 'NOUN'), (',', '.'), ('was', 'VERB'), ('launched', 'VERB'), ('*-1', 'X'), ('in', 'ADP'), ('1984', 'NUM'), ('.', '.')], [('Wellcome', 'NOUN'), ('gained', 'VERB'), ('18', 'NUM'), ('to', 'PRT'), ('666', 'NUM'), ('on', 'ADP'), ('a', 'DET'), ('modest', 'ADJ'), ('1.1', 'NUM'), ('million', 'NUM'), ('shares', 'NOUN'), ('.', '.')], [('``', '.'), ('We', 'PRON'), (\"'re\", 'VERB'), ('offering', 'VERB'), ('this', 'DET'), ('plan', 'NOUN'), ('now', 'ADV'), ('because', 'ADP'), ('we', 'PRON'), ('feel', 'VERB'), ('0', 'X'), ('it', 'PRON'), (\"'s\", 'VERB'), ('the', 'DET'), ('right', 'ADJ'), ('time', 'NOUN'), ('.', '.'), (\"''\", '.')], [('The', 'DET'), ('Los', 'NOUN'), ('Angeles', 'NOUN'), ('County', 'NOUN'), ('district', 'NOUN'), ('attorney', 'NOUN'), (\"'s\", 'PRT'), ('office', 'NOUN'), ('filed', 'VERB'), ('seven', 'NUM'), ('felony', 'NOUN'), ('and', 'CONJ'), ('five', 'NUM'), ('misdemeanor', 'NOUN'), ('counts', 'NOUN'), ('charging', 'VERB'), ('that', 'ADP'), ('late', 'ADJ'), ('last', 'ADJ'), ('year', 'NOUN'), ('and', 'CONJ'), ('early', 'ADV'), ('this', 'DET'), ('year', 'NOUN'), ('the', 'DET'), ('Irvine', 'NOUN'), (',', '.'), ('Calif.-based', 'ADJ'), ('circuit-board', 'NOUN'), ('manufacturer', 'NOUN'), ('illegally', 'ADV'), ('disposed', 'VERB'), ('of', 'ADP'), ('acid', 'NOUN'), (',', '.'), ('caustic', 'ADJ'), ('and', 'CONJ'), ('heavy', 'ADJ'), ('metals', 'NOUN'), ('into', 'ADP'), ('the', 'DET'), ('sewer', 'NOUN'), ('system', 'NOUN'), (',', '.'), ('and', 'CONJ'), ('stored', 'VERB'), ('hazardous', 'ADJ'), ('materials', 'NOUN'), ('in', 'ADP'), ('leaky', 'ADJ'), (',', '.'), ('unlabeled', 'ADJ'), ('or', 'CONJ'), ('open-top', 'ADJ'), ('containers', 'NOUN'), ('.', '.')]]\n"
     ]
    }
   ],
   "source": [
    "# Explore the val set\n",
    "print(val_set[:5])"
   ]
  },
  {
   "cell_type": "markdown",
   "metadata": {},
   "source": [
    "#### Extract tokens and tags from train set"
   ]
  },
  {
   "cell_type": "code",
   "execution_count": 618,
   "metadata": {},
   "outputs": [
    {
     "data": {
      "text/plain": [
       "[('The', 'DET'),\n",
       " ('city', 'NOUN'),\n",
       " (\"'s\", 'PRT'),\n",
       " ('Campaign', 'NOUN'),\n",
       " ('Finance', 'NOUN'),\n",
       " ('Board', 'NOUN'),\n",
       " ('has', 'VERB'),\n",
       " ('refused', 'VERB'),\n",
       " ('*-1', 'X'),\n",
       " ('to', 'PRT')]"
      ]
     },
     "execution_count": 618,
     "metadata": {},
     "output_type": "execute_result"
    }
   ],
   "source": [
    "# Get list of all the tagged words\n",
    "train_tagged_words = [tup for sent in train_set for tup in sent]\n",
    "len(train_tagged_words)\n",
    "train_tagged_words[:10]"
   ]
  },
  {
   "cell_type": "code",
   "execution_count": 619,
   "metadata": {},
   "outputs": [
    {
     "data": {
      "text/plain": [
       "['The',\n",
       " 'city',\n",
       " \"'s\",\n",
       " 'Campaign',\n",
       " 'Finance',\n",
       " 'Board',\n",
       " 'has',\n",
       " 'refused',\n",
       " '*-1',\n",
       " 'to']"
      ]
     },
     "execution_count": 619,
     "metadata": {},
     "output_type": "execute_result"
    }
   ],
   "source": [
    "# Extract tokens from the tagged words list\n",
    "tokens = [pair[0] for pair in train_tagged_words]\n",
    "tokens[:10]"
   ]
  },
  {
   "cell_type": "code",
   "execution_count": 620,
   "metadata": {},
   "outputs": [
    {
     "name": "stdout",
     "output_type": "stream",
     "text": [
      "Number of total words in vocabulary:  95372\n",
      "Number of unique words in vocabulary:  12041\n"
     ]
    }
   ],
   "source": [
    "# Eliminate duplicate words in the vocabulary\n",
    "print('Number of total words in vocabulary: ',len(tokens))\n",
    "V = set(tokens)\n",
    "print('Number of unique words in vocabulary: ',len(V))"
   ]
  },
  {
   "cell_type": "code",
   "execution_count": 621,
   "metadata": {},
   "outputs": [
    {
     "data": {
      "text/plain": [
       "['DET', 'NOUN', 'PRT', 'NOUN', 'NOUN', 'NOUN', 'VERB', 'VERB', 'X', 'PRT']"
      ]
     },
     "execution_count": 621,
     "metadata": {},
     "output_type": "execute_result"
    }
   ],
   "source": [
    "# Extract all tags from tagged words list\n",
    "tags = [pair[1] for pair in train_tagged_words]\n",
    "tags[:10]"
   ]
  },
  {
   "cell_type": "code",
   "execution_count": 622,
   "metadata": {
    "scrolled": true
   },
   "outputs": [
    {
     "name": "stdout",
     "output_type": "stream",
     "text": [
      "Number of total tags in vocabulary:  95372\n",
      "Number of unique tags in vocabulary:  12\n"
     ]
    }
   ],
   "source": [
    "# Eliminate duplicate tags in the vocabulary\n",
    "print('Number of total tags in vocabulary: ',len(tags))\n",
    "T = set(tags)\n",
    "print('Number of unique tags in vocabulary: ',len(T))"
   ]
  },
  {
   "cell_type": "markdown",
   "metadata": {},
   "source": [
    "#### Extract tokens from sample test file"
   ]
  },
  {
   "cell_type": "code",
   "execution_count": 623,
   "metadata": {
    "scrolled": true
   },
   "outputs": [
    {
     "data": {
      "text/plain": [
       "\"Android is a mobile operating system developed by Google.\\nAndroid has been the best-selling OS worldwide on smartphones since 2011 and on tablets since 2013.\\nGoogle and Twitter made a deal in 2015 that gave Google access to Twitter's firehose.\\nTwitter is an online news and social networking service on which users post and interact with messages known as tweets.\\nBefore entering politics, Donald Trump was a domineering businessman and a television personality.\\nThe 2018 FIFA World Cup is the 21st FIFA World Cup, an international football tournament contested once every four years.\\nThis is the first World Cup to be held in Eastern Europe and the 11th time that it has been held in Europe.\\nShow me the cheapest round trips from Dallas to Atlanta\\nI would like to see flights from Denver to Philadelphia.\\nShow me the price of the flights leaving Atlanta at about 3 in the afternoon and arriving in San Francisco.\\nNASA invited social media users to experience the launch of ICESAT-2 Satellite.\\n\\n\\n\\n\""
      ]
     },
     "execution_count": 623,
     "metadata": {},
     "output_type": "execute_result"
    }
   ],
   "source": [
    "# Read from sample test file\n",
    "test_file = open(\"Test_sentences.txt\", \"r\") \n",
    "test_set= test_file.read()\n",
    "test_set"
   ]
  },
  {
   "cell_type": "code",
   "execution_count": 624,
   "metadata": {},
   "outputs": [
    {
     "data": {
      "text/plain": [
       "['Android',\n",
       " 'is',\n",
       " 'a',\n",
       " 'mobile',\n",
       " 'operating',\n",
       " 'system',\n",
       " 'developed',\n",
       " 'by',\n",
       " 'Google',\n",
       " '.']"
      ]
     },
     "execution_count": 624,
     "metadata": {},
     "output_type": "execute_result"
    }
   ],
   "source": [
    "# Tokenize the sample test file into words\n",
    "from nltk.tokenize import word_tokenize\n",
    "test_words = word_tokenize(test_set)\n",
    "test_words[:10]"
   ]
  },
  {
   "cell_type": "markdown",
   "metadata": {},
   "source": [
    "#### Calculate Emission Probability"
   ]
  },
  {
   "cell_type": "code",
   "execution_count": 625,
   "metadata": {},
   "outputs": [],
   "source": [
    "# Compute P(w/t): the probability of a word being emitted by a tag, i.e. Emission Probability\n",
    "t = len(T)\n",
    "v = len(V)\n",
    "# Create a zero T x V matrix for storing P(w/t) values\n",
    "w_given_t = np.zeros((t, v))"
   ]
  },
  {
   "cell_type": "code",
   "execution_count": 626,
   "metadata": {},
   "outputs": [],
   "source": [
    "# Compute word given tag: Emission Probability\n",
    "def word_given_tag(word, tag, train_bag = train_tagged_words):\n",
    "    tag_list = [pair for pair in train_bag if pair[1]==tag]\n",
    "    count_tag = len(tag_list)\n",
    "    w_given_tag_list = [pair[0] for pair in tag_list if pair[0]==word]\n",
    "    count_w_given_tag = len(w_given_tag_list)\n",
    "    \n",
    "    return (count_w_given_tag, count_tag)"
   ]
  },
  {
   "cell_type": "markdown",
   "metadata": {},
   "source": [
    "#### Calculate Transition Probability"
   ]
  },
  {
   "cell_type": "code",
   "execution_count": 627,
   "metadata": {},
   "outputs": [],
   "source": [
    "# Compute P(t2/t1): tag2(t2) given tag1 (t1), i.e. Transition Probability\n",
    "\n",
    "def t2_given_t1(t2, t1, train_bag = train_tagged_words):\n",
    "    tags = [pair[1] for pair in train_bag]\n",
    "    count_t1 = len([t for t in tags if t==t1])\n",
    "    count_t2_t1 = 0\n",
    "    for index in range(len(tags)-1):\n",
    "        if tags[index]==t1 and tags[index+1] == t2:\n",
    "            count_t2_t1 += 1\n",
    "    return (count_t2_t1, count_t1)"
   ]
  },
  {
   "cell_type": "markdown",
   "metadata": {},
   "source": [
    "#### Create tags matrix for representing P(tj given ti)"
   ]
  },
  {
   "cell_type": "code",
   "execution_count": 628,
   "metadata": {},
   "outputs": [],
   "source": [
    "# Create a t x t transition matrix of tags\n",
    "# each column is t2, each row is t1\n",
    "# thus M(i, j) represents P(tj given ti)\n",
    "\n",
    "tags_matrix = np.zeros((len(T), len(T)), dtype='float32')\n",
    "for i, t1 in enumerate(list(T)):\n",
    "    for j, t2 in enumerate(list(T)): \n",
    "        tags_matrix[i, j] = t2_given_t1(t2, t1)[0]/t2_given_t1(t2, t1)[1]"
   ]
  },
  {
   "cell_type": "code",
   "execution_count": 629,
   "metadata": {},
   "outputs": [
    {
     "data": {
      "text/plain": [
       "array([[9.28764641e-02, 5.76194786e-02, 1.72858432e-01, 2.75022537e-02,\n",
       "        9.08025280e-02, 6.60054088e-02, 2.16411171e-03, 8.93597826e-02,\n",
       "        8.10640231e-02, 5.30207381e-02, 4.47249785e-02, 2.21911639e-01],\n",
       "       [3.65168527e-02, 4.68164799e-04, 1.18913859e-01, 8.89513083e-03,\n",
       "        5.38389497e-02, 6.08614236e-02, 4.68164776e-03, 1.55430704e-01,\n",
       "        3.88576761e-02, 5.61797768e-02, 1.17509365e-01, 3.47846448e-01],\n",
       "       [1.74820926e-02, 4.85613680e-04, 5.22034708e-03, 4.45550568e-02,\n",
       "        8.98385327e-03, 3.76350619e-03, 2.42806840e-04, 4.00631316e-02,\n",
       "        2.19740197e-02, 1.25045525e-02, 2.05778807e-01, 6.38946235e-01],\n",
       "       [1.63908333e-01, 1.06619988e-02, 5.49013354e-02, 7.55888000e-02,\n",
       "        1.43061742e-01, 5.39465323e-02, 1.86028004e-01, 2.04964995e-01,\n",
       "        2.86441762e-03, 2.54614893e-02, 1.60725657e-02, 6.25397861e-02],\n",
       "       [3.92619595e-02, 7.50911830e-04, 3.23428452e-01, 3.49710360e-02,\n",
       "        1.65200606e-02, 6.86547980e-02, 1.50182366e-03, 8.36730283e-03,\n",
       "        6.20038621e-02, 1.31945936e-02, 1.06844023e-01, 3.24501187e-01],\n",
       "       [4.01389413e-02, 5.01736766e-03, 9.64878406e-03, 9.45580825e-02,\n",
       "        2.23851800e-02, 7.71902734e-03, 1.23504438e-02, 4.83211130e-01,\n",
       "        7.71902734e-03, 3.58934775e-02, 7.17869550e-02, 2.09571600e-01],\n",
       "       [4.25392687e-02, 1.96335069e-03, 9.98036638e-02, 1.34162307e-02,\n",
       "        1.99607331e-02, 1.83246080e-02, 1.63612561e-03, 4.02486920e-01,\n",
       "        5.75916246e-02, 9.48952883e-03, 8.44240859e-02, 2.48363867e-01],\n",
       "       [3.48846242e-02, 5.59397088e-03, 1.33789137e-01, 2.17387930e-01,\n",
       "        9.17566642e-02, 3.57392579e-02, 3.14660855e-02, 1.68440685e-01,\n",
       "        2.29197424e-02, 8.25887620e-02, 6.45637512e-02, 1.10869393e-01],\n",
       "       [1.17734723e-01, 1.37108797e-02, 2.98062596e-03, 2.09836066e-01,\n",
       "        3.42771970e-02, 1.49031298e-03, 2.74217594e-02, 1.69895682e-02,\n",
       "        1.85096875e-01, 2.98062596e-03, 3.30849476e-02, 3.54396433e-01],\n",
       "       [1.36633664e-01, 7.26072630e-03, 6.89768940e-02, 2.37623770e-02,\n",
       "        1.18811883e-01, 1.38613861e-02, 1.38613861e-02, 3.44554454e-01,\n",
       "        3.23432349e-02, 8.01980197e-02, 1.27392739e-01, 3.23432349e-02],\n",
       "       [6.47780001e-02, 1.67329349e-02, 5.13585145e-03, 2.18687877e-02,\n",
       "        7.73691162e-02, 6.62690552e-04, 1.06030488e-02, 1.20941019e-02,\n",
       "        2.05434058e-02, 4.63883346e-03, 6.56063631e-02, 6.99966848e-01],\n",
       "       [2.39694491e-01, 4.23183739e-02, 1.31559717e-02, 2.92354915e-02,\n",
       "        1.76545829e-01, 4.82385606e-03, 4.37436029e-02, 1.47200704e-01,\n",
       "        9.57462378e-03, 1.71758514e-02, 1.20230960e-02, 2.64508098e-01]],\n",
       "      dtype=float32)"
      ]
     },
     "execution_count": 629,
     "metadata": {},
     "output_type": "execute_result"
    }
   ],
   "source": [
    "tags_matrix"
   ]
  },
  {
   "cell_type": "code",
   "execution_count": 630,
   "metadata": {},
   "outputs": [],
   "source": [
    "# Convert the matrix to a df for better readability\n",
    "tags_df = pd.DataFrame(tags_matrix, columns = list(T), index=list(T))"
   ]
  },
  {
   "cell_type": "code",
   "execution_count": 631,
   "metadata": {},
   "outputs": [
    {
     "data": {
      "text/html": [
       "<div>\n",
       "<style scoped>\n",
       "    .dataframe tbody tr th:only-of-type {\n",
       "        vertical-align: middle;\n",
       "    }\n",
       "\n",
       "    .dataframe tbody tr th {\n",
       "        vertical-align: top;\n",
       "    }\n",
       "\n",
       "    .dataframe thead th {\n",
       "        text-align: right;\n",
       "    }\n",
       "</style>\n",
       "<table border=\"1\" class=\"dataframe\">\n",
       "  <thead>\n",
       "    <tr style=\"text-align: right;\">\n",
       "      <th></th>\n",
       "      <th>.</th>\n",
       "      <th>CONJ</th>\n",
       "      <th>DET</th>\n",
       "      <th>X</th>\n",
       "      <th>ADP</th>\n",
       "      <th>PRON</th>\n",
       "      <th>PRT</th>\n",
       "      <th>VERB</th>\n",
       "      <th>NUM</th>\n",
       "      <th>ADV</th>\n",
       "      <th>ADJ</th>\n",
       "      <th>NOUN</th>\n",
       "    </tr>\n",
       "  </thead>\n",
       "  <tbody>\n",
       "    <tr>\n",
       "      <th>.</th>\n",
       "      <td>0.092876</td>\n",
       "      <td>0.057619</td>\n",
       "      <td>0.172858</td>\n",
       "      <td>0.027502</td>\n",
       "      <td>0.090803</td>\n",
       "      <td>0.066005</td>\n",
       "      <td>0.002164</td>\n",
       "      <td>0.089360</td>\n",
       "      <td>0.081064</td>\n",
       "      <td>0.053021</td>\n",
       "      <td>0.044725</td>\n",
       "      <td>0.221912</td>\n",
       "    </tr>\n",
       "    <tr>\n",
       "      <th>CONJ</th>\n",
       "      <td>0.036517</td>\n",
       "      <td>0.000468</td>\n",
       "      <td>0.118914</td>\n",
       "      <td>0.008895</td>\n",
       "      <td>0.053839</td>\n",
       "      <td>0.060861</td>\n",
       "      <td>0.004682</td>\n",
       "      <td>0.155431</td>\n",
       "      <td>0.038858</td>\n",
       "      <td>0.056180</td>\n",
       "      <td>0.117509</td>\n",
       "      <td>0.347846</td>\n",
       "    </tr>\n",
       "    <tr>\n",
       "      <th>DET</th>\n",
       "      <td>0.017482</td>\n",
       "      <td>0.000486</td>\n",
       "      <td>0.005220</td>\n",
       "      <td>0.044555</td>\n",
       "      <td>0.008984</td>\n",
       "      <td>0.003764</td>\n",
       "      <td>0.000243</td>\n",
       "      <td>0.040063</td>\n",
       "      <td>0.021974</td>\n",
       "      <td>0.012505</td>\n",
       "      <td>0.205779</td>\n",
       "      <td>0.638946</td>\n",
       "    </tr>\n",
       "    <tr>\n",
       "      <th>X</th>\n",
       "      <td>0.163908</td>\n",
       "      <td>0.010662</td>\n",
       "      <td>0.054901</td>\n",
       "      <td>0.075589</td>\n",
       "      <td>0.143062</td>\n",
       "      <td>0.053947</td>\n",
       "      <td>0.186028</td>\n",
       "      <td>0.204965</td>\n",
       "      <td>0.002864</td>\n",
       "      <td>0.025461</td>\n",
       "      <td>0.016073</td>\n",
       "      <td>0.062540</td>\n",
       "    </tr>\n",
       "    <tr>\n",
       "      <th>ADP</th>\n",
       "      <td>0.039262</td>\n",
       "      <td>0.000751</td>\n",
       "      <td>0.323428</td>\n",
       "      <td>0.034971</td>\n",
       "      <td>0.016520</td>\n",
       "      <td>0.068655</td>\n",
       "      <td>0.001502</td>\n",
       "      <td>0.008367</td>\n",
       "      <td>0.062004</td>\n",
       "      <td>0.013195</td>\n",
       "      <td>0.106844</td>\n",
       "      <td>0.324501</td>\n",
       "    </tr>\n",
       "    <tr>\n",
       "      <th>PRON</th>\n",
       "      <td>0.040139</td>\n",
       "      <td>0.005017</td>\n",
       "      <td>0.009649</td>\n",
       "      <td>0.094558</td>\n",
       "      <td>0.022385</td>\n",
       "      <td>0.007719</td>\n",
       "      <td>0.012350</td>\n",
       "      <td>0.483211</td>\n",
       "      <td>0.007719</td>\n",
       "      <td>0.035893</td>\n",
       "      <td>0.071787</td>\n",
       "      <td>0.209572</td>\n",
       "    </tr>\n",
       "    <tr>\n",
       "      <th>PRT</th>\n",
       "      <td>0.042539</td>\n",
       "      <td>0.001963</td>\n",
       "      <td>0.099804</td>\n",
       "      <td>0.013416</td>\n",
       "      <td>0.019961</td>\n",
       "      <td>0.018325</td>\n",
       "      <td>0.001636</td>\n",
       "      <td>0.402487</td>\n",
       "      <td>0.057592</td>\n",
       "      <td>0.009490</td>\n",
       "      <td>0.084424</td>\n",
       "      <td>0.248364</td>\n",
       "    </tr>\n",
       "    <tr>\n",
       "      <th>VERB</th>\n",
       "      <td>0.034885</td>\n",
       "      <td>0.005594</td>\n",
       "      <td>0.133789</td>\n",
       "      <td>0.217388</td>\n",
       "      <td>0.091757</td>\n",
       "      <td>0.035739</td>\n",
       "      <td>0.031466</td>\n",
       "      <td>0.168441</td>\n",
       "      <td>0.022920</td>\n",
       "      <td>0.082589</td>\n",
       "      <td>0.064564</td>\n",
       "      <td>0.110869</td>\n",
       "    </tr>\n",
       "    <tr>\n",
       "      <th>NUM</th>\n",
       "      <td>0.117735</td>\n",
       "      <td>0.013711</td>\n",
       "      <td>0.002981</td>\n",
       "      <td>0.209836</td>\n",
       "      <td>0.034277</td>\n",
       "      <td>0.001490</td>\n",
       "      <td>0.027422</td>\n",
       "      <td>0.016990</td>\n",
       "      <td>0.185097</td>\n",
       "      <td>0.002981</td>\n",
       "      <td>0.033085</td>\n",
       "      <td>0.354396</td>\n",
       "    </tr>\n",
       "    <tr>\n",
       "      <th>ADV</th>\n",
       "      <td>0.136634</td>\n",
       "      <td>0.007261</td>\n",
       "      <td>0.068977</td>\n",
       "      <td>0.023762</td>\n",
       "      <td>0.118812</td>\n",
       "      <td>0.013861</td>\n",
       "      <td>0.013861</td>\n",
       "      <td>0.344554</td>\n",
       "      <td>0.032343</td>\n",
       "      <td>0.080198</td>\n",
       "      <td>0.127393</td>\n",
       "      <td>0.032343</td>\n",
       "    </tr>\n",
       "    <tr>\n",
       "      <th>ADJ</th>\n",
       "      <td>0.064778</td>\n",
       "      <td>0.016733</td>\n",
       "      <td>0.005136</td>\n",
       "      <td>0.021869</td>\n",
       "      <td>0.077369</td>\n",
       "      <td>0.000663</td>\n",
       "      <td>0.010603</td>\n",
       "      <td>0.012094</td>\n",
       "      <td>0.020543</td>\n",
       "      <td>0.004639</td>\n",
       "      <td>0.065606</td>\n",
       "      <td>0.699967</td>\n",
       "    </tr>\n",
       "    <tr>\n",
       "      <th>NOUN</th>\n",
       "      <td>0.239694</td>\n",
       "      <td>0.042318</td>\n",
       "      <td>0.013156</td>\n",
       "      <td>0.029235</td>\n",
       "      <td>0.176546</td>\n",
       "      <td>0.004824</td>\n",
       "      <td>0.043744</td>\n",
       "      <td>0.147201</td>\n",
       "      <td>0.009575</td>\n",
       "      <td>0.017176</td>\n",
       "      <td>0.012023</td>\n",
       "      <td>0.264508</td>\n",
       "    </tr>\n",
       "  </tbody>\n",
       "</table>\n",
       "</div>"
      ],
      "text/plain": [
       "             .      CONJ       DET         X       ADP      PRON       PRT  \\\n",
       ".     0.092876  0.057619  0.172858  0.027502  0.090803  0.066005  0.002164   \n",
       "CONJ  0.036517  0.000468  0.118914  0.008895  0.053839  0.060861  0.004682   \n",
       "DET   0.017482  0.000486  0.005220  0.044555  0.008984  0.003764  0.000243   \n",
       "X     0.163908  0.010662  0.054901  0.075589  0.143062  0.053947  0.186028   \n",
       "ADP   0.039262  0.000751  0.323428  0.034971  0.016520  0.068655  0.001502   \n",
       "PRON  0.040139  0.005017  0.009649  0.094558  0.022385  0.007719  0.012350   \n",
       "PRT   0.042539  0.001963  0.099804  0.013416  0.019961  0.018325  0.001636   \n",
       "VERB  0.034885  0.005594  0.133789  0.217388  0.091757  0.035739  0.031466   \n",
       "NUM   0.117735  0.013711  0.002981  0.209836  0.034277  0.001490  0.027422   \n",
       "ADV   0.136634  0.007261  0.068977  0.023762  0.118812  0.013861  0.013861   \n",
       "ADJ   0.064778  0.016733  0.005136  0.021869  0.077369  0.000663  0.010603   \n",
       "NOUN  0.239694  0.042318  0.013156  0.029235  0.176546  0.004824  0.043744   \n",
       "\n",
       "          VERB       NUM       ADV       ADJ      NOUN  \n",
       ".     0.089360  0.081064  0.053021  0.044725  0.221912  \n",
       "CONJ  0.155431  0.038858  0.056180  0.117509  0.347846  \n",
       "DET   0.040063  0.021974  0.012505  0.205779  0.638946  \n",
       "X     0.204965  0.002864  0.025461  0.016073  0.062540  \n",
       "ADP   0.008367  0.062004  0.013195  0.106844  0.324501  \n",
       "PRON  0.483211  0.007719  0.035893  0.071787  0.209572  \n",
       "PRT   0.402487  0.057592  0.009490  0.084424  0.248364  \n",
       "VERB  0.168441  0.022920  0.082589  0.064564  0.110869  \n",
       "NUM   0.016990  0.185097  0.002981  0.033085  0.354396  \n",
       "ADV   0.344554  0.032343  0.080198  0.127393  0.032343  \n",
       "ADJ   0.012094  0.020543  0.004639  0.065606  0.699967  \n",
       "NOUN  0.147201  0.009575  0.017176  0.012023  0.264508  "
      ]
     },
     "execution_count": 631,
     "metadata": {},
     "output_type": "execute_result"
    }
   ],
   "source": [
    "tags_df"
   ]
  },
  {
   "cell_type": "code",
   "execution_count": 632,
   "metadata": {
    "scrolled": true
   },
   "outputs": [
    {
     "data": {
      "image/png": "[encoded data removed]",
      "text/plain": [
       "<Figure size 1296x864 with 2 Axes>"
      ]
     },
     "metadata": {
      "needs_background": "light"
     },
     "output_type": "display_data"
    }
   ],
   "source": [
    "# Heatmap of tags matrix\n",
    "# T(i, j) means P(tag j given tag i)\n",
    "plt.figure(figsize=(18, 12))\n",
    "sns.heatmap(tags_df)\n",
    "plt.show()"
   ]
  },
  {
   "cell_type": "code",
   "execution_count": 633,
   "metadata": {},
   "outputs": [
    {
     "data": {
      "image/png": "[encoded data removed]",
      "text/plain": [
       "<Figure size 1296x864 with 2 Axes>"
      ]
     },
     "metadata": {
      "needs_background": "light"
     },
     "output_type": "display_data"
    }
   ],
   "source": [
    "# Frequent tags\n",
    "# filter the df to get P(t2, t1) > 0.5\n",
    "tags_frequent = tags_df[tags_df>0.5]\n",
    "plt.figure(figsize=(18, 12))\n",
    "sns.heatmap(tags_frequent)\n",
    "plt.show()"
   ]
  },
  {
   "cell_type": "markdown",
   "metadata": {},
   "source": [
    "#### Observation:\n",
    "- The tag NOUN follows the tag DET with a transition probability of 0.690\n",
    "- The tag NOUN follows the tag ADJ with a transition probability of 0.645"
   ]
  },
  {
   "cell_type": "markdown",
   "metadata": {},
   "source": [
    "### Implement Viterbi Algorithm"
   ]
  },
  {
   "cell_type": "markdown",
   "metadata": {},
   "source": [
    "Let's now use the computed probabilities P(w, tag) and P(t2, t1) to assign tags to each word in the document. We'll run through each word w and compute P(tag/w)=P(w/tag).P(tag) for each tag in the tag set, and then assign the tag having the max P(tag/w).\n",
    "\n",
    "We'll store the assigned tags in a list of tuples, similar to the list 'train_tagged_words'. Each tuple will be a (token, assigned_tag). As we progress further in the list, each tag to be assigned will use the tag of the previous token.\n",
    "\n",
    "Note: P(tag|start) = P(tag|'.') "
   ]
  },
  {
   "cell_type": "code",
   "execution_count": 634,
   "metadata": {},
   "outputs": [
    {
     "data": {
      "text/plain": [
       "95372"
      ]
     },
     "execution_count": 634,
     "metadata": {},
     "output_type": "execute_result"
    }
   ],
   "source": [
    "len(train_tagged_words)"
   ]
  },
  {
   "cell_type": "code",
   "execution_count": 635,
   "metadata": {},
   "outputs": [],
   "source": [
    "# Viterbi Heuristic\n",
    "def Viterbi(words, train_bag = train_tagged_words):\n",
    "    state = []\n",
    "    \n",
    "    T = list(set([pair[1] for pair in train_bag]))\n",
    "    \n",
    "    for key, word in enumerate(words):\n",
    "        # initialise list of probability column for a given observation\n",
    "        p = [] \n",
    "        # iterate over all the tags in list T\n",
    "        for tag in T:\n",
    "            if key == 0: \n",
    "                transition_p = tags_df.loc['.', tag]\n",
    "            else:\n",
    "                transition_p = tags_df.loc[state[-1], tag]\n",
    "                \n",
    "            # compute emission and state probabilities\n",
    "            emission_p = word_given_tag(words[key], tag)[0]/word_given_tag(words[key], tag)[1]\n",
    "\n",
    "            state_probability = emission_p * transition_p    \n",
    "            p.append(state_probability)\n",
    "          \n",
    "            \n",
    "        pmax = max(p)\n",
    "        # getting state for which probability is maximum\n",
    "        state_max = T[p.index(pmax)]\n",
    "        state.append(state_max)\n",
    "        \n",
    "    return list(zip(words, state))\n"
   ]
  },
  {
   "cell_type": "markdown",
   "metadata": {},
   "source": [
    "### Evaluating tagging accuracy on Validation Set"
   ]
  },
  {
   "cell_type": "code",
   "execution_count": 636,
   "metadata": {},
   "outputs": [],
   "source": [
    "# Let's test our Viterbi algorithm on a few sample sentences of validation dataset\n",
    "\n",
    "#random.seed(222)\n",
    "\n",
    "# choose random 5 sents\n",
    "rndom = [random.randint(1,len(val_set)-1) for x in range(5)]\n",
    "rndom\n",
    "# list of sents\n",
    "val_run = [val_set[i] for i in rndom]\n",
    "\n",
    "# list of tagged words\n",
    "val_run_base = [tup for sent in val_run for tup in sent]\n",
    "\n",
    "# list of untagged words\n",
    "val_tagged_words = [tup[0] for sent in val_run for tup in sent]\n",
    "#val_tagged_words"
   ]
  },
  {
   "cell_type": "code",
   "execution_count": 637,
   "metadata": {},
   "outputs": [],
   "source": [
    "# tagging the validation set sentences\n",
    "tagged_seq = Viterbi(val_tagged_words)\n"
   ]
  },
  {
   "cell_type": "code",
   "execution_count": 638,
   "metadata": {},
   "outputs": [
    {
     "name": "stdout",
     "output_type": "stream",
     "text": [
      "[('As', 'ADP'), ('San', 'NOUN'), ('Francisco', 'NOUN'), ('digs', '.'), ('out', 'ADP'), ('from', 'ADP'), ('The', 'DET'), ('Pretty', '.'), ('Big', 'NOUN'), ('One', 'NUM'), (',', '.'), ('opponents', 'NOUN'), ('say', 'VERB'), ('0', 'X'), ('the', 'DET'), ('last', 'ADJ'), ('thing', 'NOUN'), ('0', 'X'), ('the', 'DET'), ('city', 'NOUN'), ('can', 'VERB'), ('afford', '.'), ('*T*-1', 'X'), ('is', 'VERB'), ('an', 'DET'), ('expensive', 'ADJ'), ('new', 'ADJ'), ('stadium', 'NOUN'), ('.', '.'), ('Three', 'NUM'), ('divisions', 'NOUN'), ('at', 'ADP'), ('American', 'ADJ'), ('Express', 'NOUN'), ('*ICH*-1', 'X'), ('are', 'VERB'), ('working', 'VERB'), ('with', 'ADP'), ('Buick', 'NOUN'), ('on', 'ADP'), ('the', 'DET'), ('promotion', 'NOUN'), (':', '.'), ('the', 'DET'), ('establishment', 'NOUN'), ('services', 'NOUN'), ('division', 'NOUN'), (',', '.'), ('which', 'DET'), ('*T*-57', '.'), ('is', 'VERB'), ('responsible', 'ADJ'), ('for', 'ADP'), ('all', 'DET'), ('merchants', 'NOUN'), ('and', 'CONJ'), ('companies', 'NOUN'), ('that', 'ADP'), ('*T*-2', 'X'), ('accept', 'VERB'), ('the', 'DET'), ('card', 'NOUN'), (';', '.'), ('the', 'DET'), ('travel', 'NOUN'), ('division', 'NOUN'), (';', '.'), ('and', 'CONJ'), ('the', 'DET'), ('merchandise', 'NOUN'), ('sales', 'NOUN'), ('division', 'NOUN'), ('.', '.'), ('*', 'X'), ('Reducing', '.'), ('volatility', 'NOUN'), ('.', '.'), ('When', 'ADV'), ('it', 'PRON'), (\"'s\", 'VERB'), ('time', 'NOUN'), ('for', 'ADP'), ('their', 'PRON'), ('biannual', '.'), ('powwow', '.'), ('*T*-1', 'X'), (',', '.'), ('the', 'DET'), ('nation', 'NOUN'), (\"'s\", 'PRT'), ('manufacturing', 'VERB'), ('titans', '.'), ('typically', 'ADV'), ('jet', 'NOUN'), ('off', 'PRT'), ('to', 'PRT'), ('the', 'DET'), ('sunny', '.'), ('confines', '.'), ('of', 'ADP'), ('resort', 'NOUN'), ('towns', 'NOUN'), ('like', 'ADP'), ('Boca', 'NOUN'), ('Raton', 'NOUN'), ('and', 'CONJ'), ('Hot', 'ADJ'), ('Springs', 'NOUN'), ('.', '.'), ('A', 'DET'), ('player', '.'), (\"'s\", 'VERB'), ('commitment', 'NOUN'), ('to', 'PRT'), ('practice', 'NOUN'), ('and', 'CONJ'), ('team', 'NOUN'), ('image', 'NOUN'), ('is', 'VERB'), ('as', 'ADP'), ('important', 'ADJ'), ('as', 'ADP'), ('his', 'PRON'), ('batting', '.'), ('average', 'ADJ'), ('.', '.')]\n"
     ]
    }
   ],
   "source": [
    "print(tagged_seq)"
   ]
  },
  {
   "cell_type": "code",
   "execution_count": 639,
   "metadata": {},
   "outputs": [
    {
     "data": {
      "text/plain": [
       "0.8412698412698413"
      ]
     },
     "execution_count": 639,
     "metadata": {},
     "output_type": "execute_result"
    }
   ],
   "source": [
    "# Calculate accuracy\n",
    "check = [i for i, j in zip(tagged_seq, val_run_base) if i == j] \n",
    "accuracy = len(check)/len(tagged_seq)\n",
    "accuracy"
   ]
  },
  {
   "cell_type": "code",
   "execution_count": 640,
   "metadata": {
    "scrolled": true
   },
   "outputs": [
    {
     "data": {
      "text/plain": [
       "[[('Francisco', 'NOUN'), (('digs', '.'), ('digs', 'VERB'))],\n",
       " [('digs', 'VERB'), (('out', 'ADP'), ('out', 'PRT'))],\n",
       " [('The', 'DET'), (('Pretty', '.'), ('Pretty', 'NOUN'))],\n",
       " [('can', 'VERB'), (('afford', '.'), ('afford', 'VERB'))],\n",
       " [('at', 'ADP'), (('American', 'ADJ'), ('American', 'NOUN'))],\n",
       " [('which', 'DET'), (('*T*-57', '.'), ('*T*-57', 'X'))],\n",
       " [('companies', 'NOUN'), (('that', 'ADP'), ('that', 'DET'))],\n",
       " [('*', 'X'), (('Reducing', '.'), ('Reducing', 'VERB'))],\n",
       " [('their', 'PRON'), (('biannual', '.'), ('biannual', 'ADJ'))],\n",
       " [('biannual', 'ADJ'), (('powwow', '.'), ('powwow', 'NOUN'))],\n",
       " [('manufacturing', 'VERB'), (('titans', '.'), ('titans', 'NOUN'))],\n",
       " [('typically', 'ADV'), (('jet', 'NOUN'), ('jet', 'VERB'))],\n",
       " [('the', 'DET'), (('sunny', '.'), ('sunny', 'ADJ'))],\n",
       " [('sunny', 'ADJ'), (('confines', '.'), ('confines', 'NOUN'))],\n",
       " [('and', 'CONJ'), (('Hot', 'ADJ'), ('Hot', 'NOUN'))],\n",
       " [('A', 'DET'), (('player', '.'), ('player', 'NOUN'))],\n",
       " [('player', 'NOUN'), ((\"'s\", 'VERB'), (\"'s\", 'PRT'))],\n",
       " [('is', 'VERB'), (('as', 'ADP'), ('as', 'ADV'))],\n",
       " [('his', 'PRON'), (('batting', '.'), ('batting', 'NOUN'))],\n",
       " [('batting', 'NOUN'), (('average', 'ADJ'), ('average', 'NOUN'))]]"
      ]
     },
     "execution_count": 640,
     "metadata": {},
     "output_type": "execute_result"
    }
   ],
   "source": [
    "# Check incorrectly tagged tokens\n",
    "incorrect_tagged_cases = [[val_run_base[i-1],j] for i, j in enumerate(zip(tagged_seq, val_run_base)) if j[0]!=j[1]]\n",
    "incorrect_tagged_cases"
   ]
  },
  {
   "cell_type": "markdown",
   "metadata": {},
   "source": [
    "#### Observations:\n",
    "- All the unknown words are assigned the first tag in the training set.\n",
    "- The algorithm works well for words present in the training set though ambiguous words are sometimes incorrectly tagged when context changes.\n"
   ]
  },
  {
   "cell_type": "markdown",
   "metadata": {},
   "source": [
    "### Evaluating tagging accuracy on Sample Test Set"
   ]
  },
  {
   "cell_type": "code",
   "execution_count": 641,
   "metadata": {
    "scrolled": true
   },
   "outputs": [],
   "source": [
    "# tagging the test sentences\n",
    "tagged_seq = Viterbi(test_words)\n"
   ]
  },
  {
   "cell_type": "code",
   "execution_count": 642,
   "metadata": {
    "scrolled": false
   },
   "outputs": [
    {
     "data": {
      "text/plain": [
       "[('Android', '.'),\n",
       " ('is', 'VERB'),\n",
       " ('a', 'DET'),\n",
       " ('mobile', 'ADJ'),\n",
       " ('operating', 'NOUN'),\n",
       " ('system', 'NOUN'),\n",
       " ('developed', 'VERB'),\n",
       " ('by', 'ADP'),\n",
       " ('Google', '.'),\n",
       " ('.', '.'),\n",
       " ('Android', '.'),\n",
       " ('has', 'VERB'),\n",
       " ('been', 'VERB'),\n",
       " ('the', 'DET'),\n",
       " ('best-selling', 'ADJ'),\n",
       " ('OS', '.'),\n",
       " ('worldwide', '.'),\n",
       " ('on', 'ADP'),\n",
       " ('smartphones', '.'),\n",
       " ('since', 'ADP'),\n",
       " ('2011', '.'),\n",
       " ('and', 'CONJ'),\n",
       " ('on', 'ADP'),\n",
       " ('tablets', 'NOUN'),\n",
       " ('since', 'ADP'),\n",
       " ('2013', '.'),\n",
       " ('.', '.'),\n",
       " ('Google', '.'),\n",
       " ('and', 'CONJ'),\n",
       " ('Twitter', '.'),\n",
       " ('made', 'VERB'),\n",
       " ('a', 'DET'),\n",
       " ('deal', 'NOUN'),\n",
       " ('in', 'ADP'),\n",
       " ('2015', '.'),\n",
       " ('that', 'DET'),\n",
       " ('gave', 'VERB'),\n",
       " ('Google', '.'),\n",
       " ('access', 'NOUN'),\n",
       " ('to', 'PRT'),\n",
       " ('Twitter', '.'),\n",
       " (\"'s\", 'VERB'),\n",
       " ('firehose', '.'),\n",
       " ('.', '.'),\n",
       " ('Twitter', '.'),\n",
       " ('is', 'VERB'),\n",
       " ('an', 'DET'),\n",
       " ('online', '.'),\n",
       " ('news', 'NOUN'),\n",
       " ('and', 'CONJ'),\n",
       " ('social', 'ADJ'),\n",
       " ('networking', 'NOUN'),\n",
       " ('service', 'NOUN'),\n",
       " ('on', 'ADP'),\n",
       " ('which', 'DET'),\n",
       " ('users', 'NOUN'),\n",
       " ('post', 'NOUN'),\n",
       " ('and', 'CONJ'),\n",
       " ('interact', '.'),\n",
       " ('with', 'ADP'),\n",
       " ('messages', '.'),\n",
       " ('known', 'VERB'),\n",
       " ('as', 'ADP'),\n",
       " ('tweets', '.'),\n",
       " ('.', '.'),\n",
       " ('Before', 'ADP'),\n",
       " ('entering', 'VERB'),\n",
       " ('politics', 'NOUN'),\n",
       " (',', '.'),\n",
       " ('Donald', 'NOUN'),\n",
       " ('Trump', 'NOUN'),\n",
       " ('was', 'VERB'),\n",
       " ('a', 'DET'),\n",
       " ('domineering', '.'),\n",
       " ('businessman', 'NOUN'),\n",
       " ('and', 'CONJ'),\n",
       " ('a', 'DET'),\n",
       " ('television', 'NOUN'),\n",
       " ('personality', '.'),\n",
       " ('.', '.'),\n",
       " ('The', 'DET'),\n",
       " ('2018', '.'),\n",
       " ('FIFA', '.'),\n",
       " ('World', 'NOUN'),\n",
       " ('Cup', '.'),\n",
       " ('is', 'VERB'),\n",
       " ('the', 'DET'),\n",
       " ('21st', '.'),\n",
       " ('FIFA', '.'),\n",
       " ('World', 'NOUN'),\n",
       " ('Cup', '.'),\n",
       " (',', '.'),\n",
       " ('an', 'DET'),\n",
       " ('international', 'ADJ'),\n",
       " ('football', 'NOUN'),\n",
       " ('tournament', '.'),\n",
       " ('contested', '.'),\n",
       " ('once', 'ADV'),\n",
       " ('every', 'DET'),\n",
       " ('four', 'NUM'),\n",
       " ('years', 'NOUN'),\n",
       " ('.', '.'),\n",
       " ('This', 'DET'),\n",
       " ('is', 'VERB'),\n",
       " ('the', 'DET'),\n",
       " ('first', 'ADJ'),\n",
       " ('World', 'NOUN'),\n",
       " ('Cup', '.'),\n",
       " ('to', 'PRT'),\n",
       " ('be', 'VERB'),\n",
       " ('held', 'VERB'),\n",
       " ('in', 'ADP'),\n",
       " ('Eastern', 'NOUN'),\n",
       " ('Europe', 'NOUN'),\n",
       " ('and', 'CONJ'),\n",
       " ('the', 'DET'),\n",
       " ('11th', 'ADJ'),\n",
       " ('time', 'NOUN'),\n",
       " ('that', 'ADP'),\n",
       " ('it', 'PRON'),\n",
       " ('has', 'VERB'),\n",
       " ('been', 'VERB'),\n",
       " ('held', 'VERB'),\n",
       " ('in', 'ADP'),\n",
       " ('Europe', 'NOUN'),\n",
       " ('.', '.'),\n",
       " ('Show', 'NOUN'),\n",
       " ('me', 'PRON'),\n",
       " ('the', 'DET'),\n",
       " ('cheapest', 'ADJ'),\n",
       " ('round', 'NOUN'),\n",
       " ('trips', '.'),\n",
       " ('from', 'ADP'),\n",
       " ('Dallas', 'NOUN'),\n",
       " ('to', 'PRT'),\n",
       " ('Atlanta', 'NOUN'),\n",
       " ('I', 'PRON'),\n",
       " ('would', 'VERB'),\n",
       " ('like', 'ADP'),\n",
       " ('to', 'PRT'),\n",
       " ('see', 'VERB'),\n",
       " ('flights', 'NOUN'),\n",
       " ('from', 'ADP'),\n",
       " ('Denver', 'NOUN'),\n",
       " ('to', 'PRT'),\n",
       " ('Philadelphia', 'NOUN'),\n",
       " ('.', '.'),\n",
       " ('Show', 'NOUN'),\n",
       " ('me', 'PRON'),\n",
       " ('the', 'DET'),\n",
       " ('price', 'NOUN'),\n",
       " ('of', 'ADP'),\n",
       " ('the', 'DET'),\n",
       " ('flights', 'NOUN'),\n",
       " ('leaving', 'VERB'),\n",
       " ('Atlanta', 'NOUN'),\n",
       " ('at', 'ADP'),\n",
       " ('about', 'ADP'),\n",
       " ('3', 'NUM'),\n",
       " ('in', 'ADP'),\n",
       " ('the', 'DET'),\n",
       " ('afternoon', 'NOUN'),\n",
       " ('and', 'CONJ'),\n",
       " ('arriving', '.'),\n",
       " ('in', 'ADP'),\n",
       " ('San', 'NOUN'),\n",
       " ('Francisco', 'NOUN'),\n",
       " ('.', '.'),\n",
       " ('NASA', '.'),\n",
       " ('invited', '.'),\n",
       " ('social', 'ADJ'),\n",
       " ('media', 'NOUN'),\n",
       " ('users', 'NOUN'),\n",
       " ('to', 'PRT'),\n",
       " ('experience', 'NOUN'),\n",
       " ('the', 'DET'),\n",
       " ('launch', 'NOUN'),\n",
       " ('of', 'ADP'),\n",
       " ('ICESAT-2', '.'),\n",
       " ('Satellite', '.'),\n",
       " ('.', '.')]"
      ]
     },
     "execution_count": 642,
     "metadata": {},
     "output_type": "execute_result"
    }
   ],
   "source": [
    "tagged_seq"
   ]
  },
  {
   "cell_type": "markdown",
   "metadata": {},
   "source": [
    "#### Observations:\n",
    "- There are 28 unique unknown words in the test sample which appear 36 times in the sentences. \n",
    "        Android\n",
    "        Google\n",
    "        OS\n",
    "        worldwide\n",
    "        smartphones\n",
    "        2011\n",
    "        2013\n",
    "        Twitter\n",
    "        2015\n",
    "        firehose\n",
    "        online\n",
    "        interact\n",
    "        messages\n",
    "        tweets\n",
    "        domineering\n",
    "        personality\n",
    "        2018\n",
    "        FIFA\n",
    "        Cup\n",
    "        21st\n",
    "        tournament\n",
    "        contested\n",
    "        trips\n",
    "        arriving\n",
    "        NASA\n",
    "        invited\n",
    "        ICESAT-2\n",
    "        Satellite\n",
    "        \n",
    "- All the unknown words are assigned the first tag in the training set (the '.' )"
   ]
  },
  {
   "cell_type": "markdown",
   "metadata": {},
   "source": [
    "### Solve the problem of unknown words"
   ]
  },
  {
   "cell_type": "markdown",
   "metadata": {},
   "source": [
    "### Technique 1: Use only Transition Probabilities to tag unknown words"
   ]
  },
  {
   "cell_type": "markdown",
   "metadata": {},
   "source": [
    "Since the emission probabilities of all tags for unknown words are always zero (since they do not appear in the training set at all), we can use this knowledge to treat them differently. \n",
    "We know that state probabilties determine the most likely tag for each word, and it is in turn dependent on both transition and emission probabilities. So whenever emission probability is 0, the corresponding state probability is also 0. This makes determining the tags of unknown words difficult.\n",
    "Let us only consider the transition probabilities in case of unknown words (since emission probabilities are 0 anyway) and assign them the tag with the maximum transition probability (from the previous tag)."
   ]
  },
  {
   "cell_type": "code",
   "execution_count": 643,
   "metadata": {},
   "outputs": [],
   "source": [
    "# Modified Viterbi Heuristic - Technique 1\n",
    "def ModifiedViterbi_1(words, train_bag = train_tagged_words):\n",
    "    state = []\n",
    "    \n",
    "    T = list(set([pair[1] for pair in train_bag]))\n",
    "    \n",
    "    for key, word in enumerate(words):\n",
    "        # initialise list of probability column for a given observation\n",
    "        p = [] \n",
    "        \n",
    "        # initialise a variable that would store the sum of emission probabilities for all tags per observation\n",
    "        sum_emission_p = 0\n",
    "        \n",
    "        # initialise list that would store transition probabilty values for all tags per observation\n",
    "        tp = []\n",
    "        # iterate over all tags in list T\n",
    "        for tag in T:\n",
    "            if key == 0:\n",
    "                transition_p = tags_df.loc['.', tag]\n",
    "            else:\n",
    "                transition_p = tags_df.loc[state[-1], tag]\n",
    "                \n",
    "            # append emission probability of tag to list\n",
    "            tp.append(transition_p)\n",
    "                \n",
    "            # compute emission and state probabilities\n",
    "            emission_p = word_given_tag(words[key], tag)[0]/word_given_tag(words[key], tag)[1]\n",
    "              \n",
    "            state_probability = emission_p * transition_p    \n",
    "            p.append(state_probability)\n",
    "            \n",
    "            # add emission probability of tag\n",
    "            sum_emission_p += emission_p\n",
    "        \n",
    "        # If the sum of all emission probabilties is 0, then the word is unknown\n",
    "        # Store the max of the transition probabilties in this case\n",
    "        if sum_emission_p == 0:\n",
    "            print('Unknown word: \"{}\", (will be assigned a tag with max transition probability)'.format(word))\n",
    "            tmax = max(tp)\n",
    "            # Get state for which transition probability is maximum\n",
    "            state_max = T[tp.index(tmax)]\n",
    "            \n",
    "       # Else store max of the state probabilties      \n",
    "        else: \n",
    "            pmax = max(p)\n",
    "            # getting state for which state probability is maximum\n",
    "            state_max = T[p.index(pmax)]\n",
    "            \n",
    "\n",
    "        state.append(state_max)\n",
    "    return list(zip(words, state))"
   ]
  },
  {
   "cell_type": "markdown",
   "metadata": {},
   "source": [
    "### Evaluating tagging accuracy on Validation Set"
   ]
  },
  {
   "cell_type": "code",
   "execution_count": 644,
   "metadata": {},
   "outputs": [],
   "source": [
    "# Let's test our Viterbi algorithm on a few sample sentences of validation dataset\n",
    "\n",
    "#random.seed(222)\n",
    "\n",
    "# choose random 5 sents\n",
    "rndom = [random.randint(1,len(val_set)-1) for x in range(5)]\n",
    "rndom\n",
    "# list of sents\n",
    "val_run = [val_set[i] for i in rndom]\n",
    "\n",
    "# list of tagged words\n",
    "val_run_base = [tup for sent in val_run for tup in sent]\n",
    "\n",
    "# list of untagged words\n",
    "val_tagged_words = [tup[0] for sent in val_run for tup in sent]\n",
    "#val_tagged_words"
   ]
  },
  {
   "cell_type": "code",
   "execution_count": 645,
   "metadata": {},
   "outputs": [
    {
     "name": "stdout",
     "output_type": "stream",
     "text": [
      "Unknown word: \"single-handed\", (will be assigned a tag with max transition probability)\n",
      "Unknown word: \"imperative\", (will be assigned a tag with max transition probability)\n",
      "Unknown word: \"natural-gas\", (will be assigned a tag with max transition probability)\n",
      "Unknown word: \"disaffected\", (will be assigned a tag with max transition probability)\n",
      "Unknown word: \"hard-drinking\", (will be assigned a tag with max transition probability)\n",
      "Unknown word: \"nearly-30\", (will be assigned a tag with max transition probability)\n",
      "Unknown word: \"snow\", (will be assigned a tag with max transition probability)\n",
      "Unknown word: \"search\", (will be assigned a tag with max transition probability)\n",
      "Unknown word: \"elusive\", (will be assigned a tag with max transition probability)\n",
      "Unknown word: \"sheep\", (will be assigned a tag with max transition probability)\n",
      "Unknown word: \"behest\", (will be assigned a tag with max transition probability)\n",
      "Unknown word: \"sinister\", (will be assigned a tag with max transition probability)\n",
      "Unknown word: \"erudite\", (will be assigned a tag with max transition probability)\n",
      "Unknown word: \"mobster\", (will be assigned a tag with max transition probability)\n"
     ]
    }
   ],
   "source": [
    "# tagging the validation set sentences\n",
    "tagged_seq = ModifiedViterbi_1(val_tagged_words)\n"
   ]
  },
  {
   "cell_type": "code",
   "execution_count": 646,
   "metadata": {},
   "outputs": [
    {
     "name": "stdout",
     "output_type": "stream",
     "text": [
      "[('As', 'ADP'), ('chairman', 'NOUN'), ('of', 'ADP'), ('the', 'DET'), ('House', 'NOUN'), ('Energy', 'NOUN'), ('and', 'CONJ'), ('Commerce', 'NOUN'), ('Committee', 'NOUN'), (',', '.'), ('Mr.', 'NOUN'), ('Dingell', 'NOUN'), ('has', 'VERB'), ('almost', 'ADV'), ('single-handed', 'VERB'), ('control', 'NOUN'), ('over', 'ADP'), ('clean-air', 'ADJ'), ('legislation', 'NOUN'), ('.', '.'), ('To', 'PRT'), ('that', 'DET'), ('end', 'NOUN'), (',', '.'), ('American', 'NOUN'), ('Express', 'NOUN'), ('has', 'VERB'), ('been', 'VERB'), ('signing', 'VERB'), ('up', 'ADV'), ('gasoline', 'NOUN'), ('companies', 'NOUN'), (',', '.'), ('car', 'NOUN'), ('repair', 'NOUN'), ('shops', 'NOUN'), (',', '.'), ('tire', 'NOUN'), ('companies', 'NOUN'), ('and', 'CONJ'), ('car', 'NOUN'), ('dealers', 'NOUN'), ('*-1', 'X'), ('to', 'PRT'), ('accept', 'VERB'), ('the', 'DET'), ('card', 'NOUN'), ('.', '.'), ('``', '.'), ('*', 'X'), ('To', 'PRT'), ('avoid', 'VERB'), ('these', 'DET'), ('costs', 'NOUN'), (',', '.'), ('and', 'CONJ'), ('a', 'DET'), ('possible', 'ADJ'), ('default', 'NOUN'), (',', '.'), ('immediate', 'ADJ'), ('action', 'NOUN'), ('is', 'VERB'), ('imperative', 'X'), ('.', '.'), (\"''\", '.'), ('Hadson', 'NOUN'), ('Corp.', 'NOUN'), ('said', 'VERB'), ('0', 'X'), ('it', 'PRON'), ('expects', 'VERB'), ('*-1', 'X'), ('to', 'PRT'), ('report', 'NOUN'), ('a', 'DET'), ('third-quarter', 'NOUN'), ('net', 'NOUN'), ('loss', 'NOUN'), ('of', 'ADP'), ('$', '.'), ('17', 'NUM'), ('million', 'NUM'), ('to', 'PRT'), ('$', '.'), ('19', 'NUM'), ('million', 'NUM'), ('*U*', 'X'), ('because', 'ADP'), ('of', 'ADP'), ('special', 'ADJ'), ('reserves', 'NOUN'), ('and', 'CONJ'), ('continued', 'VERB'), ('low', 'ADJ'), ('natural-gas', 'NOUN'), ('prices', 'NOUN'), ('.', '.'), ('A', 'DET'), ('disaffected', 'NOUN'), (',', '.'), ('hard-drinking', 'NOUN'), (',', '.'), ('nearly-30', 'NOUN'), ('hero', 'NOUN'), ('sets', 'NOUN'), ('off', 'PRT'), ('for', 'ADP'), ('snow', 'NOUN'), ('country', 'NOUN'), ('in', 'ADP'), ('search', 'NOUN'), ('of', 'ADP'), ('an', 'DET'), ('elusive', 'NOUN'), ('sheep', 'NOUN'), ('with', 'ADP'), ('a', 'DET'), ('star', 'NOUN'), ('on', 'ADP'), ('its', 'PRON'), ('back', 'ADV'), ('at', 'ADP'), ('the', 'DET'), ('behest', 'NOUN'), ('of', 'ADP'), ('a', 'DET'), ('sinister', 'NOUN'), (',', '.'), ('erudite', 'NOUN'), ('mobster', 'NOUN'), ('with', 'ADP'), ('a', 'DET'), ('Stanford', 'NOUN'), ('degree', 'NOUN'), ('.', '.')]\n"
     ]
    }
   ],
   "source": [
    "print(tagged_seq)"
   ]
  },
  {
   "cell_type": "code",
   "execution_count": 647,
   "metadata": {},
   "outputs": [
    {
     "data": {
      "text/plain": [
       "0.9044117647058824"
      ]
     },
     "execution_count": 647,
     "metadata": {},
     "output_type": "execute_result"
    }
   ],
   "source": [
    "# Calculate accuracy\n",
    "check = [i for i, j in zip(tagged_seq, val_run_base) if i == j] \n",
    "accuracy = len(check)/len(tagged_seq)\n",
    "accuracy"
   ]
  },
  {
   "cell_type": "code",
   "execution_count": 648,
   "metadata": {},
   "outputs": [
    {
     "data": {
      "text/plain": [
       "[[('almost', 'ADV'), (('single-handed', 'VERB'), ('single-handed', 'ADJ'))],\n",
       " [('signing', 'VERB'), (('up', 'ADV'), ('up', 'PRT'))],\n",
       " [('is', 'VERB'), (('imperative', 'X'), ('imperative', 'ADJ'))],\n",
       " [('to', 'PRT'), (('report', 'NOUN'), ('report', 'VERB'))],\n",
       " [('third-quarter', 'NOUN'), (('net', 'NOUN'), ('net', 'ADJ'))],\n",
       " [('A', 'DET'), (('disaffected', 'NOUN'), ('disaffected', 'ADJ'))],\n",
       " [(',', '.'), (('hard-drinking', 'NOUN'), ('hard-drinking', 'ADJ'))],\n",
       " [(',', '.'), (('nearly-30', 'NOUN'), ('nearly-30', 'ADJ'))],\n",
       " [('hero', 'NOUN'), (('sets', 'NOUN'), ('sets', 'VERB'))],\n",
       " [('an', 'DET'), (('elusive', 'NOUN'), ('elusive', 'ADJ'))],\n",
       " [('its', 'PRON'), (('back', 'ADV'), ('back', 'NOUN'))],\n",
       " [('a', 'DET'), (('sinister', 'NOUN'), ('sinister', 'ADJ'))],\n",
       " [(',', '.'), (('erudite', 'NOUN'), ('erudite', 'ADJ'))]]"
      ]
     },
     "execution_count": 648,
     "metadata": {},
     "output_type": "execute_result"
    }
   ],
   "source": [
    "# Check incorrectly tagged tokens\n",
    "incorrect_tagged_cases = [[val_run_base[i-1],j] for i, j in enumerate(zip(tagged_seq, val_run_base)) if j[0]!=j[1]]\n",
    "incorrect_tagged_cases"
   ]
  },
  {
   "cell_type": "markdown",
   "metadata": {},
   "source": [
    "#### Observations:\n",
    "\n",
    "- Some of the unknown words are now being correctly tagged based off only the transition probabilities.\n",
    "\n",
    "- The unknown words have now been matched to the tag which has the highest transition probability from its previous tag. For instance, if the transition probability from DET to NOUN is maximum of all states, any unknown word which follows any word with a POS tag of 'DET' will have the NOUN tag (For example, the unknown words 'elusive' and 'sinister')\n",
    "\n",
    "- Since we are only tagging unknown words based on transition probabilities, the tagger still makes mistakes and has a lot of scope to improve. We will handle that in the next section"
   ]
  },
  {
   "cell_type": "markdown",
   "metadata": {},
   "source": [
    "### Evaluating tagging accuracy on Sample Test Set"
   ]
  },
  {
   "cell_type": "code",
   "execution_count": 649,
   "metadata": {
    "scrolled": false
   },
   "outputs": [
    {
     "name": "stdout",
     "output_type": "stream",
     "text": [
      "Unknown word: \"Android\", (will be assigned a tag with max transition probability)\n",
      "Unknown word: \"Google\", (will be assigned a tag with max transition probability)\n",
      "Unknown word: \"Android\", (will be assigned a tag with max transition probability)\n",
      "Unknown word: \"OS\", (will be assigned a tag with max transition probability)\n",
      "Unknown word: \"worldwide\", (will be assigned a tag with max transition probability)\n",
      "Unknown word: \"smartphones\", (will be assigned a tag with max transition probability)\n",
      "Unknown word: \"2011\", (will be assigned a tag with max transition probability)\n",
      "Unknown word: \"2013\", (will be assigned a tag with max transition probability)\n",
      "Unknown word: \"Google\", (will be assigned a tag with max transition probability)\n",
      "Unknown word: \"Twitter\", (will be assigned a tag with max transition probability)\n",
      "Unknown word: \"2015\", (will be assigned a tag with max transition probability)\n",
      "Unknown word: \"Google\", (will be assigned a tag with max transition probability)\n",
      "Unknown word: \"Twitter\", (will be assigned a tag with max transition probability)\n",
      "Unknown word: \"firehose\", (will be assigned a tag with max transition probability)\n",
      "Unknown word: \"Twitter\", (will be assigned a tag with max transition probability)\n",
      "Unknown word: \"online\", (will be assigned a tag with max transition probability)\n",
      "Unknown word: \"interact\", (will be assigned a tag with max transition probability)\n",
      "Unknown word: \"messages\", (will be assigned a tag with max transition probability)\n",
      "Unknown word: \"tweets\", (will be assigned a tag with max transition probability)\n",
      "Unknown word: \"domineering\", (will be assigned a tag with max transition probability)\n",
      "Unknown word: \"personality\", (will be assigned a tag with max transition probability)\n",
      "Unknown word: \"2018\", (will be assigned a tag with max transition probability)\n",
      "Unknown word: \"FIFA\", (will be assigned a tag with max transition probability)\n",
      "Unknown word: \"Cup\", (will be assigned a tag with max transition probability)\n",
      "Unknown word: \"21st\", (will be assigned a tag with max transition probability)\n",
      "Unknown word: \"FIFA\", (will be assigned a tag with max transition probability)\n",
      "Unknown word: \"Cup\", (will be assigned a tag with max transition probability)\n",
      "Unknown word: \"tournament\", (will be assigned a tag with max transition probability)\n",
      "Unknown word: \"contested\", (will be assigned a tag with max transition probability)\n",
      "Unknown word: \"Cup\", (will be assigned a tag with max transition probability)\n",
      "Unknown word: \"trips\", (will be assigned a tag with max transition probability)\n",
      "Unknown word: \"arriving\", (will be assigned a tag with max transition probability)\n",
      "Unknown word: \"NASA\", (will be assigned a tag with max transition probability)\n",
      "Unknown word: \"invited\", (will be assigned a tag with max transition probability)\n",
      "Unknown word: \"ICESAT-2\", (will be assigned a tag with max transition probability)\n",
      "Unknown word: \"Satellite\", (will be assigned a tag with max transition probability)\n"
     ]
    }
   ],
   "source": [
    "# tagging the test sentences\n",
    "tagged_seq = ModifiedViterbi_1(test_words)\n"
   ]
  },
  {
   "cell_type": "code",
   "execution_count": 650,
   "metadata": {
    "scrolled": false
   },
   "outputs": [
    {
     "data": {
      "text/plain": [
       "[('Android', 'NOUN'),\n",
       " ('is', 'VERB'),\n",
       " ('a', 'DET'),\n",
       " ('mobile', 'ADJ'),\n",
       " ('operating', 'NOUN'),\n",
       " ('system', 'NOUN'),\n",
       " ('developed', 'VERB'),\n",
       " ('by', 'ADP'),\n",
       " ('Google', 'NOUN'),\n",
       " ('.', '.'),\n",
       " ('Android', 'NOUN'),\n",
       " ('has', 'VERB'),\n",
       " ('been', 'VERB'),\n",
       " ('the', 'DET'),\n",
       " ('best-selling', 'ADJ'),\n",
       " ('OS', 'NOUN'),\n",
       " ('worldwide', 'NOUN'),\n",
       " ('on', 'ADP'),\n",
       " ('smartphones', 'NOUN'),\n",
       " ('since', 'ADP'),\n",
       " ('2011', 'NOUN'),\n",
       " ('and', 'CONJ'),\n",
       " ('on', 'ADP'),\n",
       " ('tablets', 'NOUN'),\n",
       " ('since', 'ADP'),\n",
       " ('2013', 'NOUN'),\n",
       " ('.', '.'),\n",
       " ('Google', 'NOUN'),\n",
       " ('and', 'CONJ'),\n",
       " ('Twitter', 'NOUN'),\n",
       " ('made', 'VERB'),\n",
       " ('a', 'DET'),\n",
       " ('deal', 'NOUN'),\n",
       " ('in', 'ADP'),\n",
       " ('2015', 'NOUN'),\n",
       " ('that', 'ADP'),\n",
       " ('gave', 'VERB'),\n",
       " ('Google', 'X'),\n",
       " ('access', 'NOUN'),\n",
       " ('to', 'PRT'),\n",
       " ('Twitter', 'VERB'),\n",
       " (\"'s\", 'PRT'),\n",
       " ('firehose', 'VERB'),\n",
       " ('.', '.'),\n",
       " ('Twitter', 'NOUN'),\n",
       " ('is', 'VERB'),\n",
       " ('an', 'DET'),\n",
       " ('online', 'NOUN'),\n",
       " ('news', 'NOUN'),\n",
       " ('and', 'CONJ'),\n",
       " ('social', 'ADJ'),\n",
       " ('networking', 'NOUN'),\n",
       " ('service', 'NOUN'),\n",
       " ('on', 'ADP'),\n",
       " ('which', 'DET'),\n",
       " ('users', 'NOUN'),\n",
       " ('post', 'NOUN'),\n",
       " ('and', 'CONJ'),\n",
       " ('interact', 'NOUN'),\n",
       " ('with', 'ADP'),\n",
       " ('messages', 'NOUN'),\n",
       " ('known', 'VERB'),\n",
       " ('as', 'ADP'),\n",
       " ('tweets', 'NOUN'),\n",
       " ('.', '.'),\n",
       " ('Before', 'ADP'),\n",
       " ('entering', 'VERB'),\n",
       " ('politics', 'NOUN'),\n",
       " (',', '.'),\n",
       " ('Donald', 'NOUN'),\n",
       " ('Trump', 'NOUN'),\n",
       " ('was', 'VERB'),\n",
       " ('a', 'DET'),\n",
       " ('domineering', 'NOUN'),\n",
       " ('businessman', 'NOUN'),\n",
       " ('and', 'CONJ'),\n",
       " ('a', 'DET'),\n",
       " ('television', 'NOUN'),\n",
       " ('personality', 'NOUN'),\n",
       " ('.', '.'),\n",
       " ('The', 'DET'),\n",
       " ('2018', 'NOUN'),\n",
       " ('FIFA', 'NOUN'),\n",
       " ('World', 'NOUN'),\n",
       " ('Cup', 'NOUN'),\n",
       " ('is', 'VERB'),\n",
       " ('the', 'DET'),\n",
       " ('21st', 'NOUN'),\n",
       " ('FIFA', 'NOUN'),\n",
       " ('World', 'NOUN'),\n",
       " ('Cup', 'NOUN'),\n",
       " (',', '.'),\n",
       " ('an', 'DET'),\n",
       " ('international', 'ADJ'),\n",
       " ('football', 'NOUN'),\n",
       " ('tournament', 'NOUN'),\n",
       " ('contested', 'NOUN'),\n",
       " ('once', 'ADV'),\n",
       " ('every', 'DET'),\n",
       " ('four', 'NUM'),\n",
       " ('years', 'NOUN'),\n",
       " ('.', '.'),\n",
       " ('This', 'DET'),\n",
       " ('is', 'VERB'),\n",
       " ('the', 'DET'),\n",
       " ('first', 'ADJ'),\n",
       " ('World', 'NOUN'),\n",
       " ('Cup', 'NOUN'),\n",
       " ('to', 'PRT'),\n",
       " ('be', 'VERB'),\n",
       " ('held', 'VERB'),\n",
       " ('in', 'ADP'),\n",
       " ('Eastern', 'NOUN'),\n",
       " ('Europe', 'NOUN'),\n",
       " ('and', 'CONJ'),\n",
       " ('the', 'DET'),\n",
       " ('11th', 'ADJ'),\n",
       " ('time', 'NOUN'),\n",
       " ('that', 'ADP'),\n",
       " ('it', 'PRON'),\n",
       " ('has', 'VERB'),\n",
       " ('been', 'VERB'),\n",
       " ('held', 'VERB'),\n",
       " ('in', 'ADP'),\n",
       " ('Europe', 'NOUN'),\n",
       " ('.', '.'),\n",
       " ('Show', 'NOUN'),\n",
       " ('me', 'PRON'),\n",
       " ('the', 'DET'),\n",
       " ('cheapest', 'ADJ'),\n",
       " ('round', 'NOUN'),\n",
       " ('trips', 'NOUN'),\n",
       " ('from', 'ADP'),\n",
       " ('Dallas', 'NOUN'),\n",
       " ('to', 'PRT'),\n",
       " ('Atlanta', 'NOUN'),\n",
       " ('I', 'PRON'),\n",
       " ('would', 'VERB'),\n",
       " ('like', 'ADP'),\n",
       " ('to', 'PRT'),\n",
       " ('see', 'VERB'),\n",
       " ('flights', 'NOUN'),\n",
       " ('from', 'ADP'),\n",
       " ('Denver', 'NOUN'),\n",
       " ('to', 'PRT'),\n",
       " ('Philadelphia', 'NOUN'),\n",
       " ('.', '.'),\n",
       " ('Show', 'NOUN'),\n",
       " ('me', 'PRON'),\n",
       " ('the', 'DET'),\n",
       " ('price', 'NOUN'),\n",
       " ('of', 'ADP'),\n",
       " ('the', 'DET'),\n",
       " ('flights', 'NOUN'),\n",
       " ('leaving', 'VERB'),\n",
       " ('Atlanta', 'NOUN'),\n",
       " ('at', 'ADP'),\n",
       " ('about', 'ADP'),\n",
       " ('3', 'NUM'),\n",
       " ('in', 'ADP'),\n",
       " ('the', 'DET'),\n",
       " ('afternoon', 'NOUN'),\n",
       " ('and', 'CONJ'),\n",
       " ('arriving', 'NOUN'),\n",
       " ('in', 'ADP'),\n",
       " ('San', 'NOUN'),\n",
       " ('Francisco', 'NOUN'),\n",
       " ('.', '.'),\n",
       " ('NASA', 'NOUN'),\n",
       " ('invited', 'NOUN'),\n",
       " ('social', 'ADJ'),\n",
       " ('media', 'NOUN'),\n",
       " ('users', 'NOUN'),\n",
       " ('to', 'PRT'),\n",
       " ('experience', 'NOUN'),\n",
       " ('the', 'DET'),\n",
       " ('launch', 'NOUN'),\n",
       " ('of', 'ADP'),\n",
       " ('ICESAT-2', 'NOUN'),\n",
       " ('Satellite', 'NOUN'),\n",
       " ('.', '.')]"
      ]
     },
     "execution_count": 650,
     "metadata": {},
     "output_type": "execute_result"
    }
   ],
   "source": [
    "tagged_seq"
   ]
  },
  {
   "cell_type": "markdown",
   "metadata": {},
   "source": [
    "#### Observations:\n",
    "\n",
    "- 'Android' has been properly tagged as NOUN in all cases.\n",
    "- 'Google' has been tagged correctly as 'NOUN' twice and incorrectly as 'X' once.\n",
    "- 'Twitter' has also been tagged correctly twice as NOUN and erroneously once, as VERB \n",
    "- Organization abbreviations like NASA, FIFA have been tagged correctly as NOUN.\n",
    "- Years like 2011, 2013 and 2018 have been incorrectly tagged as NOUN\n",
    "- 'ICESAT-2' which is the name of a satellite has been correctly tagged as NOUN\n",
    "- Adjectival ordinal numerals like the word '21st'has been assigned the tag of NOUN\n",
    "- The word 'arriving' has been incorrectly tagged as NOUN"
   ]
  },
  {
   "cell_type": "markdown",
   "metadata": {},
   "source": [
    "### Technique 2: Use Rule-Based (Regular Expression) tagger to tag unknown words "
   ]
  },
  {
   "cell_type": "markdown",
   "metadata": {},
   "source": [
    "Now let's build a rule-based, or regular expression based tagger which captures morphological patterns in unknown words and use it to tag those words. \n",
    "\n",
    "In the example below, we specify regexes for gerunds and past tense verbs, 3rd singular present verb (creates, moves, makes etc.), modal verbs MD (should, would, could), possesive nouns (partner's, bank's etc.), plural nouns (banks, institutions), cardinal numbers CD, adjectival ordinal numerals and finally, if none of the above rules are applicable to a word, we tag the most frequent tag NN."
   ]
  },
  {
   "cell_type": "code",
   "execution_count": 651,
   "metadata": {},
   "outputs": [],
   "source": [
    "# specify patterns for tagging\n",
    "patterns = [\n",
    "    (r'.*ing$', 'VERB'),                          # gerund\n",
    "    (r'.*ed$', 'VERB'),                           # past tense\n",
    "    (r'.*es$', 'VERB'),                           # 3rd singular present\n",
    "    (r'.*ould$', 'VERB'),                         # modals\n",
    "    (r'.[0-9]+\\'?s$', 'NUM'),                     # Numbers like 90s or '90s\n",
    "    (r'.*\\'s$', 'NOUN'),                          # possessive nouns\n",
    "    (r'.*s$', 'NOUN'),                            # plural nouns    \n",
    "    (r'^-?[0-9]+(.[0-9]+)?$', 'NUM'),             # cardinal numbers\n",
    "    (r'^-?[0-9]+(.[0-9]+)?(th|st|nd)$', 'ADJ'),   # adjectival ordinal numerals (like 21st, 9th, 2nd etc)\n",
    "    (r'.*', 'NOUN')                               # nouns\n",
    "]"
   ]
  },
  {
   "cell_type": "code",
   "execution_count": 652,
   "metadata": {},
   "outputs": [],
   "source": [
    "# rule based tagger\n",
    "rule_based_tagger = nltk.RegexpTagger(patterns)\n"
   ]
  },
  {
   "cell_type": "code",
   "execution_count": 653,
   "metadata": {},
   "outputs": [],
   "source": [
    "# Modified Viterbi Heuristic - Technique 2\n",
    "def ModifiedViterbi_2(words, train_bag = train_tagged_words):\n",
    "    state = []\n",
    "    \n",
    "    T = list(set([pair[1] for pair in train_bag]))\n",
    "    \n",
    "    for key, word in enumerate(words):\n",
    "        # initialise list of probability column for a given observation\n",
    "        p = [] \n",
    "        \n",
    "        # initialise a variable that would store the sum of emission probabilities for all tags per observation\n",
    "        sum_emission_p = 0\n",
    "        \n",
    "        # initialise list that would store transition probabilty values for all tags per observation\n",
    "        tp = []\n",
    "        # iterate over all tags in list T\n",
    "        for tag in T:\n",
    "            if key == 0:\n",
    "                transition_p = tags_df.loc['.', tag]\n",
    "            else:\n",
    "                transition_p = tags_df.loc[state[-1], tag]\n",
    "                \n",
    "            # append emission probability of tag to list\n",
    "            tp.append(transition_p)\n",
    "                \n",
    "            # compute emission and state probabilities\n",
    "            emission_p = word_given_tag(words[key], tag)[0]/word_given_tag(words[key], tag)[1]\n",
    "              \n",
    "            state_probability = emission_p * transition_p    \n",
    "            p.append(state_probability)\n",
    "            \n",
    "            # add emission probability of tag\n",
    "            sum_emission_p += emission_p\n",
    "        \n",
    "        # If the sum of all emission probabilties is 0, then the word is unknown\n",
    "        # Use the regular expression tagger to tag the unknown word\n",
    "        if sum_emission_p == 0:\n",
    "            print('Unknown word: \"{}\", (will be tagged using rule-based regex tagger)'.format(word))\n",
    "            regex_tag = rule_based_tagger.tag(nltk.word_tokenize(word))\n",
    "            state_max = regex_tag[0][1]\n",
    "            \n",
    "       # Else store max of the state probabilties      \n",
    "        else: \n",
    "            pmax = max(p)\n",
    "            # getting state for which state probability is maximum\n",
    "            state_max = T[p.index(pmax)]\n",
    "            \n",
    "        state.append(state_max)\n",
    "        \n",
    "    return list(zip(words, state))"
   ]
  },
  {
   "cell_type": "markdown",
   "metadata": {},
   "source": [
    "#### Evaluating tagging accuracy on Validation Set"
   ]
  },
  {
   "cell_type": "code",
   "execution_count": 654,
   "metadata": {},
   "outputs": [],
   "source": [
    "# Let's test our Viterbi algorithm on a few sample sentences of validation dataset\n",
    "\n",
    "#random.seed(222)\n",
    "\n",
    "# choose random 5 sents\n",
    "rndom = [random.randint(1,len(val_set)-1) for x in range(5)]\n",
    "rndom\n",
    "# list of sents\n",
    "val_run = [val_set[i] for i in rndom]\n",
    "\n",
    "# list of tagged words\n",
    "val_run_base = [tup for sent in val_run for tup in sent]\n",
    "\n",
    "# list of untagged words\n",
    "val_tagged_words = [tup[0] for sent in val_run for tup in sent]\n",
    "#val_tagged_words"
   ]
  },
  {
   "cell_type": "code",
   "execution_count": 655,
   "metadata": {},
   "outputs": [
    {
     "name": "stdout",
     "output_type": "stream",
     "text": [
      "Unknown word: \"curbing\", (will be tagged using rule-based regex tagger)\n",
      "Unknown word: \"darned\", (will be tagged using rule-based regex tagger)\n",
      "Unknown word: \"participant\", (will be tagged using rule-based regex tagger)\n",
      "Unknown word: \"incentive-bonus\", (will be tagged using rule-based regex tagger)\n",
      "Unknown word: \"biscuit\", (will be tagged using rule-based regex tagger)\n",
      "Unknown word: \"Lazzaroni\", (will be tagged using rule-based regex tagger)\n",
      "Unknown word: \"overproduction\", (will be tagged using rule-based regex tagger)\n"
     ]
    }
   ],
   "source": [
    "# tagging the validation set sentences\n",
    "tagged_seq = ModifiedViterbi_2(val_tagged_words)\n"
   ]
  },
  {
   "cell_type": "code",
   "execution_count": 656,
   "metadata": {},
   "outputs": [
    {
     "name": "stdout",
     "output_type": "stream",
     "text": [
      "[('She', 'PRON'), ('adds', 'VERB'), ('that', 'ADP'), ('legislation', 'NOUN'), ('curbing', 'VERB'), ('it', 'PRON'), ('would', 'VERB'), ('be', 'VERB'), ('``', '.'), ('a', 'DET'), ('darned', 'VERB'), ('good', 'ADJ'), ('idea', 'NOUN'), ('.', '.'), (\"''\", '.'), ('Shearson', 'NOUN'), ('also', 'ADV'), ('has', 'VERB'), ('been', 'VERB'), ('an', 'DET'), ('aggressive', 'ADJ'), ('participant', 'NOUN'), ('in', 'ADP'), ('the', 'DET'), ('leveraged', 'ADJ'), ('buy-out', 'NOUN'), ('business', 'NOUN'), ('.', '.'), ('Mrs.', 'NOUN'), ('Yeargin', 'NOUN'), (\"'s\", 'PRT'), ('extra', 'ADJ'), ('work', 'NOUN'), ('was', 'VERB'), ('also', 'ADV'), ('helping', 'VERB'), ('her', 'PRON'), ('earn', 'VERB'), ('points', 'NOUN'), ('in', 'ADP'), ('the', 'DET'), ('state', 'NOUN'), (\"'s\", 'PRT'), ('incentive-bonus', 'NOUN'), ('program', 'NOUN'), ('.', '.'), ('Two', 'NUM'), ('antitrust', 'ADJ'), ('agencies', 'NOUN'), ('may', 'VERB'), ('face', 'VERB'), ('further', 'ADV'), ('cutbacks', 'NOUN'), ('because', 'ADP'), ('of', 'ADP'), ('a', 'DET'), ('complicated', 'ADJ'), ('new', 'ADJ'), ('funding', 'NOUN'), ('device', 'NOUN'), (',', '.'), ('some', 'DET'), ('Democrats', 'NOUN'), ('in', 'ADP'), ('Congress', 'NOUN'), ('are', 'VERB'), ('warning', 'VERB'), ('0', 'X'), ('*T*-1', 'X'), ('.', '.'), ('Similarly', 'ADV'), (',', '.'), ('Campbell', 'NOUN'), (\"'s\", 'PRT'), ('Italian', 'ADJ'), ('biscuit', 'NOUN'), ('operation', 'NOUN'), (',', '.'), ('D.', 'NOUN'), ('Lazzaroni', 'NOUN'), ('&', 'CONJ'), ('Co.', 'NOUN'), (',', '.'), ('has', 'VERB'), ('been', 'VERB'), ('hurt', 'VERB'), ('*-40', 'X'), ('by', 'ADP'), ('overproduction', 'NOUN'), ('and', 'CONJ'), ('distribution', 'NOUN'), ('problems', 'NOUN'), ('.', '.')]\n"
     ]
    }
   ],
   "source": [
    "print(tagged_seq)"
   ]
  },
  {
   "cell_type": "code",
   "execution_count": 657,
   "metadata": {},
   "outputs": [
    {
     "data": {
      "text/plain": [
       "0.978494623655914"
      ]
     },
     "execution_count": 657,
     "metadata": {},
     "output_type": "execute_result"
    }
   ],
   "source": [
    "# Calculate accuracy\n",
    "check = [i for i, j in zip(tagged_seq, val_run_base) if i == j] \n",
    "accuracy = len(check)/len(tagged_seq)\n",
    "accuracy"
   ]
  },
  {
   "cell_type": "code",
   "execution_count": 658,
   "metadata": {
    "scrolled": false
   },
   "outputs": [
    {
     "data": {
      "text/plain": [
       "[[('a', 'DET'), (('darned', 'VERB'), ('darned', 'ADV'))],\n",
       " [('face', 'VERB'), (('further', 'ADV'), ('further', 'ADJ'))]]"
      ]
     },
     "execution_count": 658,
     "metadata": {},
     "output_type": "execute_result"
    }
   ],
   "source": [
    "# Check incorrectly tagged tokens\n",
    "incorrect_tagged_cases = [[val_run_base[i-1],j] for i, j in enumerate(zip(tagged_seq, val_run_base)) if j[0]!=j[1]]\n",
    "incorrect_tagged_cases"
   ]
  },
  {
   "cell_type": "markdown",
   "metadata": {},
   "source": [
    "#### Observations:\n",
    "\n",
    "- Most of the unknown words are now being correctly tagged based on their morphological properties.\n",
    "\n",
    "- The overall accuracy of the algorithm has increased significantly.\n",
    "\n",
    "- There are still some unknown words which are ambiguous due to their context of use and hence they cannot be tagged properly by just observing their morphological characteristics."
   ]
  },
  {
   "cell_type": "markdown",
   "metadata": {},
   "source": [
    "#### Evaluating tagging accuracy on Sample Test Set"
   ]
  },
  {
   "cell_type": "code",
   "execution_count": 659,
   "metadata": {
    "scrolled": false
   },
   "outputs": [
    {
     "name": "stdout",
     "output_type": "stream",
     "text": [
      "Unknown word: \"Android\", (will be tagged using rule-based regex tagger)\n",
      "Unknown word: \"Google\", (will be tagged using rule-based regex tagger)\n",
      "Unknown word: \"Android\", (will be tagged using rule-based regex tagger)\n",
      "Unknown word: \"OS\", (will be tagged using rule-based regex tagger)\n",
      "Unknown word: \"worldwide\", (will be tagged using rule-based regex tagger)\n",
      "Unknown word: \"smartphones\", (will be tagged using rule-based regex tagger)\n",
      "Unknown word: \"2011\", (will be tagged using rule-based regex tagger)\n",
      "Unknown word: \"2013\", (will be tagged using rule-based regex tagger)\n",
      "Unknown word: \"Google\", (will be tagged using rule-based regex tagger)\n",
      "Unknown word: \"Twitter\", (will be tagged using rule-based regex tagger)\n",
      "Unknown word: \"2015\", (will be tagged using rule-based regex tagger)\n",
      "Unknown word: \"Google\", (will be tagged using rule-based regex tagger)\n",
      "Unknown word: \"Twitter\", (will be tagged using rule-based regex tagger)\n",
      "Unknown word: \"firehose\", (will be tagged using rule-based regex tagger)\n",
      "Unknown word: \"Twitter\", (will be tagged using rule-based regex tagger)\n",
      "Unknown word: \"online\", (will be tagged using rule-based regex tagger)\n",
      "Unknown word: \"interact\", (will be tagged using rule-based regex tagger)\n",
      "Unknown word: \"messages\", (will be tagged using rule-based regex tagger)\n",
      "Unknown word: \"tweets\", (will be tagged using rule-based regex tagger)\n",
      "Unknown word: \"domineering\", (will be tagged using rule-based regex tagger)\n",
      "Unknown word: \"personality\", (will be tagged using rule-based regex tagger)\n",
      "Unknown word: \"2018\", (will be tagged using rule-based regex tagger)\n",
      "Unknown word: \"FIFA\", (will be tagged using rule-based regex tagger)\n",
      "Unknown word: \"Cup\", (will be tagged using rule-based regex tagger)\n",
      "Unknown word: \"21st\", (will be tagged using rule-based regex tagger)\n",
      "Unknown word: \"FIFA\", (will be tagged using rule-based regex tagger)\n",
      "Unknown word: \"Cup\", (will be tagged using rule-based regex tagger)\n",
      "Unknown word: \"tournament\", (will be tagged using rule-based regex tagger)\n",
      "Unknown word: \"contested\", (will be tagged using rule-based regex tagger)\n",
      "Unknown word: \"Cup\", (will be tagged using rule-based regex tagger)\n",
      "Unknown word: \"trips\", (will be tagged using rule-based regex tagger)\n",
      "Unknown word: \"arriving\", (will be tagged using rule-based regex tagger)\n",
      "Unknown word: \"NASA\", (will be tagged using rule-based regex tagger)\n",
      "Unknown word: \"invited\", (will be tagged using rule-based regex tagger)\n",
      "Unknown word: \"ICESAT-2\", (will be tagged using rule-based regex tagger)\n",
      "Unknown word: \"Satellite\", (will be tagged using rule-based regex tagger)\n"
     ]
    }
   ],
   "source": [
    "# tagging the test sentences\n",
    "tagged_seq = ModifiedViterbi_2(test_words)\n"
   ]
  },
  {
   "cell_type": "code",
   "execution_count": 660,
   "metadata": {
    "scrolled": false
   },
   "outputs": [
    {
     "data": {
      "text/plain": [
       "[('Android', 'NOUN'),\n",
       " ('is', 'VERB'),\n",
       " ('a', 'DET'),\n",
       " ('mobile', 'ADJ'),\n",
       " ('operating', 'NOUN'),\n",
       " ('system', 'NOUN'),\n",
       " ('developed', 'VERB'),\n",
       " ('by', 'ADP'),\n",
       " ('Google', 'NOUN'),\n",
       " ('.', '.'),\n",
       " ('Android', 'NOUN'),\n",
       " ('has', 'VERB'),\n",
       " ('been', 'VERB'),\n",
       " ('the', 'DET'),\n",
       " ('best-selling', 'ADJ'),\n",
       " ('OS', 'NOUN'),\n",
       " ('worldwide', 'NOUN'),\n",
       " ('on', 'ADP'),\n",
       " ('smartphones', 'VERB'),\n",
       " ('since', 'ADP'),\n",
       " ('2011', 'NUM'),\n",
       " ('and', 'CONJ'),\n",
       " ('on', 'ADP'),\n",
       " ('tablets', 'NOUN'),\n",
       " ('since', 'ADP'),\n",
       " ('2013', 'NUM'),\n",
       " ('.', '.'),\n",
       " ('Google', 'NOUN'),\n",
       " ('and', 'CONJ'),\n",
       " ('Twitter', 'NOUN'),\n",
       " ('made', 'VERB'),\n",
       " ('a', 'DET'),\n",
       " ('deal', 'NOUN'),\n",
       " ('in', 'ADP'),\n",
       " ('2015', 'NUM'),\n",
       " ('that', 'ADP'),\n",
       " ('gave', 'VERB'),\n",
       " ('Google', 'NOUN'),\n",
       " ('access', 'NOUN'),\n",
       " ('to', 'PRT'),\n",
       " ('Twitter', 'NOUN'),\n",
       " (\"'s\", 'PRT'),\n",
       " ('firehose', 'NOUN'),\n",
       " ('.', '.'),\n",
       " ('Twitter', 'NOUN'),\n",
       " ('is', 'VERB'),\n",
       " ('an', 'DET'),\n",
       " ('online', 'NOUN'),\n",
       " ('news', 'NOUN'),\n",
       " ('and', 'CONJ'),\n",
       " ('social', 'ADJ'),\n",
       " ('networking', 'NOUN'),\n",
       " ('service', 'NOUN'),\n",
       " ('on', 'ADP'),\n",
       " ('which', 'DET'),\n",
       " ('users', 'NOUN'),\n",
       " ('post', 'NOUN'),\n",
       " ('and', 'CONJ'),\n",
       " ('interact', 'NOUN'),\n",
       " ('with', 'ADP'),\n",
       " ('messages', 'VERB'),\n",
       " ('known', 'VERB'),\n",
       " ('as', 'ADP'),\n",
       " ('tweets', 'NOUN'),\n",
       " ('.', '.'),\n",
       " ('Before', 'ADP'),\n",
       " ('entering', 'VERB'),\n",
       " ('politics', 'NOUN'),\n",
       " (',', '.'),\n",
       " ('Donald', 'NOUN'),\n",
       " ('Trump', 'NOUN'),\n",
       " ('was', 'VERB'),\n",
       " ('a', 'DET'),\n",
       " ('domineering', 'VERB'),\n",
       " ('businessman', 'NOUN'),\n",
       " ('and', 'CONJ'),\n",
       " ('a', 'DET'),\n",
       " ('television', 'NOUN'),\n",
       " ('personality', 'NOUN'),\n",
       " ('.', '.'),\n",
       " ('The', 'DET'),\n",
       " ('2018', 'NUM'),\n",
       " ('FIFA', 'NOUN'),\n",
       " ('World', 'NOUN'),\n",
       " ('Cup', 'NOUN'),\n",
       " ('is', 'VERB'),\n",
       " ('the', 'DET'),\n",
       " ('21st', 'ADJ'),\n",
       " ('FIFA', 'NOUN'),\n",
       " ('World', 'NOUN'),\n",
       " ('Cup', 'NOUN'),\n",
       " (',', '.'),\n",
       " ('an', 'DET'),\n",
       " ('international', 'ADJ'),\n",
       " ('football', 'NOUN'),\n",
       " ('tournament', 'NOUN'),\n",
       " ('contested', 'VERB'),\n",
       " ('once', 'ADV'),\n",
       " ('every', 'DET'),\n",
       " ('four', 'NUM'),\n",
       " ('years', 'NOUN'),\n",
       " ('.', '.'),\n",
       " ('This', 'DET'),\n",
       " ('is', 'VERB'),\n",
       " ('the', 'DET'),\n",
       " ('first', 'ADJ'),\n",
       " ('World', 'NOUN'),\n",
       " ('Cup', 'NOUN'),\n",
       " ('to', 'PRT'),\n",
       " ('be', 'VERB'),\n",
       " ('held', 'VERB'),\n",
       " ('in', 'ADP'),\n",
       " ('Eastern', 'NOUN'),\n",
       " ('Europe', 'NOUN'),\n",
       " ('and', 'CONJ'),\n",
       " ('the', 'DET'),\n",
       " ('11th', 'ADJ'),\n",
       " ('time', 'NOUN'),\n",
       " ('that', 'ADP'),\n",
       " ('it', 'PRON'),\n",
       " ('has', 'VERB'),\n",
       " ('been', 'VERB'),\n",
       " ('held', 'VERB'),\n",
       " ('in', 'ADP'),\n",
       " ('Europe', 'NOUN'),\n",
       " ('.', '.'),\n",
       " ('Show', 'NOUN'),\n",
       " ('me', 'PRON'),\n",
       " ('the', 'DET'),\n",
       " ('cheapest', 'ADJ'),\n",
       " ('round', 'NOUN'),\n",
       " ('trips', 'NOUN'),\n",
       " ('from', 'ADP'),\n",
       " ('Dallas', 'NOUN'),\n",
       " ('to', 'PRT'),\n",
       " ('Atlanta', 'NOUN'),\n",
       " ('I', 'PRON'),\n",
       " ('would', 'VERB'),\n",
       " ('like', 'ADP'),\n",
       " ('to', 'PRT'),\n",
       " ('see', 'VERB'),\n",
       " ('flights', 'NOUN'),\n",
       " ('from', 'ADP'),\n",
       " ('Denver', 'NOUN'),\n",
       " ('to', 'PRT'),\n",
       " ('Philadelphia', 'NOUN'),\n",
       " ('.', '.'),\n",
       " ('Show', 'NOUN'),\n",
       " ('me', 'PRON'),\n",
       " ('the', 'DET'),\n",
       " ('price', 'NOUN'),\n",
       " ('of', 'ADP'),\n",
       " ('the', 'DET'),\n",
       " ('flights', 'NOUN'),\n",
       " ('leaving', 'VERB'),\n",
       " ('Atlanta', 'NOUN'),\n",
       " ('at', 'ADP'),\n",
       " ('about', 'ADP'),\n",
       " ('3', 'NUM'),\n",
       " ('in', 'ADP'),\n",
       " ('the', 'DET'),\n",
       " ('afternoon', 'NOUN'),\n",
       " ('and', 'CONJ'),\n",
       " ('arriving', 'VERB'),\n",
       " ('in', 'ADP'),\n",
       " ('San', 'NOUN'),\n",
       " ('Francisco', 'NOUN'),\n",
       " ('.', '.'),\n",
       " ('NASA', 'NOUN'),\n",
       " ('invited', 'VERB'),\n",
       " ('social', 'ADJ'),\n",
       " ('media', 'NOUN'),\n",
       " ('users', 'NOUN'),\n",
       " ('to', 'PRT'),\n",
       " ('experience', 'NOUN'),\n",
       " ('the', 'DET'),\n",
       " ('launch', 'NOUN'),\n",
       " ('of', 'ADP'),\n",
       " ('ICESAT-2', 'NOUN'),\n",
       " ('Satellite', 'NOUN'),\n",
       " ('.', '.')]"
      ]
     },
     "execution_count": 660,
     "metadata": {},
     "output_type": "execute_result"
    }
   ],
   "source": [
    "tagged_seq"
   ]
  },
  {
   "cell_type": "markdown",
   "metadata": {},
   "source": [
    "#### Observations:\n",
    "- 'Android' has been correctly tagged as NOUN in all cases.\n",
    "- 'Google' has now been correctly tagged as'NOUN' in all occurances.\n",
    "- 'Twitter' has now been correctly tagged as'NOUN' in all occurances. \n",
    "- Organization abbreviations like NASA, FIFA have been tagged correctly as NOUN.\n",
    "- Years like 2011, 2013, 2015, 2018 have now been correctly tagged as NUM.\n",
    "- 'ICESAT-2' which is the name of a satellite has been correctly tagged as NOUN.\n",
    "- Adjectival ordinal numerals like the word '21st' has been correctly assigned the tag of ADJ.\n",
    "- The word 'arriving' has been correctly tagged as  VERB.\n",
    "- Verbs that start at the beginning of sentences like 'Show me the flights from so and so' are tagged as NOUN."
   ]
  },
  {
   "cell_type": "markdown",
   "metadata": {},
   "source": [
    "## Compare the tagging accuracies of the modifications with the vanilla Viterbi algorithm"
   ]
  },
  {
   "cell_type": "markdown",
   "metadata": {},
   "source": [
    "### Tagging accuracies on Validation Set \n",
    "####  Vanilla Viterbi:  ~84%\n",
    "\n",
    "#### Viterbi with only Transition Probabilities for unknown words (Technique 1): ~91%\n",
    "\n",
    "#### Viterbi with rule-based tagger for unknown words (Technique 2): ~98%\n",
    "    "
   ]
  },
  {
   "cell_type": "markdown",
   "metadata": {},
   "source": [
    "### Tagging accuracies on Test Sample (for unknown words only)\n",
    "####  Vanilla Viterbi :\n",
    "######  Accuracy : 0\n",
    "     - All 36 occurances of unknown words are tagged to the first tag (\".\") in training set which are all incorrect.\n",
    "     \n",
    "####  Viterbi with only Transition Probabilities for unknown words (Technique 1):\n",
    "######   Accuracy: (22/36) = ~61%\n",
    "    - 22 occurances of unknown words (out of 36) have been tagged correctly.    \n",
    "    - The following 14 (out of 36) unknown word occurances have been tagged incorrectly:\n",
    "\n",
    "    ('2011', 'NOUN')\n",
    "    ('2013', 'NOUN')\n",
    "    ('2015', 'NOUN')\n",
    "    ('Google', 'X')\n",
    "    ('Twitter', 'VERB')\n",
    "    ('firehose', 'VERB')\n",
    "    ('online', 'NOUN')\n",
    "    ('tweets', 'DET')\n",
    "    ('domineering', 'NOUN')\n",
    "    ('2018', 'NOUN')\n",
    "    ('21st', 'NOUN')\n",
    "    ('contested', 'NOUN')\n",
    "    ('arriving', 'NOUN')\n",
    "    ('invited', 'NOUN')\n",
    "\n",
    "    \n",
    "    \n",
    "    \n",
    "####  Viterbi with rule-based tagger for unknown words (Technique 2):\n",
    "###### Accuracy: (32/36) = ~89%\n",
    "    - 32(out of 36) occurances of unknown words have been tagged correctly.\n",
    "    - The following 4 unknown word occurances have been tagged incorrectly:\n",
    "    ('smartphones', 'VERB') \n",
    "    ('online', 'NOUN')      \n",
    "    ('messages', 'VERB')    \n",
    "    ('domineering', 'VERB') \n",
    "    \n",
    " "
   ]
  },
  {
   "cell_type": "code",
   "execution_count": null,
   "metadata": {},
   "outputs": [],
   "source": []
  },
  {
   "cell_type": "markdown",
   "metadata": {},
   "source": [
    "## List down cases which were incorrectly tagged by original POS tagger and got corrected by your modifications\n"
   ]
  },
  {
   "cell_type": "markdown",
   "metadata": {},
   "source": [
    "\n",
    "### Vanilla Viterbi \n",
    "     All 36 occurances of unknown words are tagged to the first tag in training set (\".\") which are all incorrect.\n",
    "### Viterbi after modifications  (Techniques 1 & 2)\n",
    "    - 'Android' has been correctly tagged as NOUN in all cases.\n",
    "    - 'Google' has now been correctly tagged as'NOUN' in all occurances.\n",
    "    - 'Twitter' has now been correctly tagged as'NOUN' in all occurances. \n",
    "    - Organization abbreviations like NASA, FIFA have been tagged correctly as NOUN.\n",
    "    - Years like 2011, 2013, 2015, 2018 have now been correctly tagged as NUM.\n",
    "    - 'ICESAT-2' which is the name of a satellite has now been correctly tagged as NOUN.\n",
    "    - Adjectival ordinal numerals like the word '21st' has been correctly assigned the tag of ADJ.\n",
    "    - The word 'arriving' has been correctly tagged as VERB."
   ]
  },
  {
   "cell_type": "code",
   "execution_count": null,
   "metadata": {},
   "outputs": [],
   "source": []
  }
 ],
 "metadata": {
  "kernelspec": {
   "display_name": "Python 3",
   "language": "python",
   "name": "python3"
  },
  "language_info": {
   "codemirror_mode": {
    "name": "ipython",
    "version": 3
   },
   "file_extension": ".py",
   "mimetype": "text/x-python",
   "name": "python",
   "nbconvert_exporter": "python",
   "pygments_lexer": "ipython3",
   "version": "3.6.8"
  }
 },
 "nbformat": 4,
 "nbformat_minor": 2
}
